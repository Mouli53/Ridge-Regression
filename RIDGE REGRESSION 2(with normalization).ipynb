{
 "cells": [
  {
   "cell_type": "code",
   "execution_count": 1,
   "metadata": {
    "id": "NI0tlqau_fPl"
   },
   "outputs": [],
   "source": [
    "import numpy as np\n",
    "import pandas as pd\n",
    "import matplotlib.pyplot as plt\n",
    "from sklearn.datasets import load_boston\n",
    "from sklearn.model_selection import train_test_split\n",
    "from sklearn.model_selection import cross_validate\n",
    "from sklearn.metrics import mean_squared_error\n",
    "from sklearn.naive_bayes import MultinomialNB\n",
    "from sklearn.ensemble import RandomForestClassifier\n",
    "from sklearn.svm import LinearSVC\n",
    "from sklearn.linear_model import LogisticRegression\n",
    "import warnings\n",
    "warnings.filterwarnings('ignore')"
   ]
  },
  {
   "cell_type": "markdown",
   "metadata": {
    "id": "DRbu8qK-1vXM"
   },
   "source": [
    "## Ridge Regression scratch"
   ]
  },
  {
   "cell_type": "code",
   "execution_count": 2,
   "metadata": {
    "id": "NY3EJPRIx0uR"
   },
   "outputs": [],
   "source": [
    "class Ridge_R():\n",
    "      \n",
    "    def __init__(self, λ=1e-1):\n",
    "        self.λ = λ # Ridge regression parameter\n",
    "          \n",
    "    def fit(self, X, y):\n",
    "        self.m, self.n = X.shape\n",
    "        z1 = (X.T @ X + self.λ * np.eye(self.n))\n",
    "        z2 = X.T @ y\n",
    "        self.W = np.linalg.inv(z1) @ z2\n",
    "\n",
    "    def predict(self, X):    \n",
    "        return X.dot(self.W)"
   ]
  },
  {
   "cell_type": "markdown",
   "metadata": {
    "id": "ZDlUR0t16fFb"
   },
   "source": [
    "## Loading boston dataset\n",
    "\n",
    "Boston housing dataset (train and test files) is taken from sklearn's `load_boston` module\n",
    "\n",
    "`Note:` You can add any dataset of the form X,y where\n",
    "\n",
    "**X** must be of the form (samples, features)"
   ]
  },
  {
   "cell_type": "code",
   "execution_count": 3,
   "metadata": {
    "id": "Snkbi0HJ3s58"
   },
   "outputs": [],
   "source": [
    "X, y = load_boston(return_X_y=True)"
   ]
  },
  {
   "cell_type": "markdown",
   "metadata": {
    "id": "WAVqeWdTjVI1"
   },
   "source": [
    "## Normalization of the data"
   ]
  },
  {
   "cell_type": "code",
   "execution_count": 4,
   "metadata": {
    "id": "5ozDM0MhjXZO"
   },
   "outputs": [],
   "source": [
    "row_sums = X.sum(axis=1)\n",
    "X = X / row_sums[:, np.newaxis]"
   ]
  },
  {
   "cell_type": "markdown",
   "metadata": {
    "id": "-LVduso9j60Z"
   },
   "source": [
    "## Train-Validation-Test split\n"
   ]
  },
  {
   "cell_type": "code",
   "execution_count": 5,
   "metadata": {
    "id": "QTQeaYWq5tON"
   },
   "outputs": [],
   "source": [
    "X_train1, X_test, y_train1, y_test = train_test_split(X, y, test_size=0.2, random_state=42)\n",
    "X_train, X_val, y_train, y_val = train_test_split(X_train1, y_train1, test_size = 0.2, random_state=42)"
   ]
  },
  {
   "cell_type": "markdown",
   "metadata": {
    "id": "ufwkJnk-FyFF"
   },
   "source": [
    "### Adding columns of ones to dataset to incorporate bias term"
   ]
  },
  {
   "cell_type": "code",
   "execution_count": 6,
   "metadata": {
    "id": "I_3n6B-5BDeP"
   },
   "outputs": [],
   "source": [
    "X_train = np.c_[np.ones(X_train.shape), X_train]\n",
    "X_train1 = np.c_[np.ones(X_train1.shape), X_train1]\n",
    "X_val = np.c_[np.ones(X_val.shape), X_val]\n",
    "X_test = np.c_[np.ones(X_test.shape), X_test]"
   ]
  },
  {
   "cell_type": "markdown",
   "metadata": {
    "id": "C4aymHLV7uib"
   },
   "source": [
    "## Training and hyper-parameter tuning using validation set"
   ]
  },
  {
   "cell_type": "code",
   "execution_count": 7,
   "metadata": {
    "colab": {
     "base_uri": "https://localhost:8080/",
     "height": 330
    },
    "id": "GBi5KpUo7i85",
    "outputId": "b78ee977-5f5b-41f7-e570-fec64d67082b"
   },
   "outputs": [
    {
     "name": "stdout",
     "output_type": "stream",
     "text": [
      "Best Ridge regression hyperparameter λ value = 0.001 (lowest MSE)\n",
      "\n"
     ]
    },
    {
     "data": {
      "image/png": "[encoded data removed]",
      "text/plain": [
       "<Figure size 432x288 with 1 Axes>"
      ]
     },
     "metadata": {
      "needs_background": "light"
     },
     "output_type": "display_data"
    }
   ],
   "source": [
    "arr = [0.001, 0.005, 0.01, 0.02, 0.04, 0.05, 0.1, 0.2, 0.3, 0.5, 0.8, 1, 2, 5, 10] \n",
    "\n",
    "mse = []\n",
    "best = arr[0]\n",
    "low_m = np.inf\n",
    "for λ in arr:\n",
    "    clf = Ridge_R(λ=λ)\n",
    "    clf.fit(X_train, y_train)\n",
    "    y_pred = clf.predict(X_val)\n",
    "    m = mean_squared_error(y_val, y_pred)\n",
    "    if m < low_m:\n",
    "        best = λ\n",
    "        low_m = m\n",
    "    mse.append(m)\n",
    "\n",
    "print('Best Ridge regression hyperparameter λ value =',best,'(lowest MSE)\\n')\n",
    "\n",
    "plt.plot(arr,mse)\n",
    "plt.title('MSE value vs Ridge regression hyperparameter λ')\n",
    "plt.xlabel('λ')\n",
    "plt.ylabel('MSE')\n",
    "plt.savefig(\"MSE vs λ (without normalization) .png\",dpi=300, bbox_inches='tight')\n",
    "plt.grid()\n",
    "plt.show()"
   ]
  },
  {
   "cell_type": "markdown",
   "metadata": {
    "id": "dTqEQB8YIZg5"
   },
   "source": [
    "## Train and predict on test set using best hyper-parameter"
   ]
  },
  {
   "cell_type": "code",
   "execution_count": 8,
   "metadata": {
    "colab": {
     "base_uri": "https://localhost:8080/"
    },
    "id": "74RAMK5CIdBY",
    "outputId": "a655eccf-9879-4eb9-b404-031e45b6f35d"
   },
   "outputs": [
    {
     "name": "stdout",
     "output_type": "stream",
     "text": [
      "λ value is  0.001\n",
      "MSE Test dataset = 27.920097675104685\n",
      "λ value is  0.005\n",
      "MSE Test dataset = 32.15701074267283\n",
      "λ value is  0.01\n",
      "MSE Test dataset = 34.28113422595057\n",
      "λ value is  0.02\n",
      "MSE Test dataset = 37.05846269866928\n",
      "λ value is  0.04\n",
      "MSE Test dataset = 40.3694495511631\n",
      "λ value is  0.05\n",
      "MSE Test dataset = 41.466546494592286\n",
      "λ value is  0.1\n",
      "MSE Test dataset = 44.702152189342954\n",
      "λ value is  0.2\n",
      "MSE Test dataset = 47.50554326435272\n",
      "λ value is  0.3\n",
      "MSE Test dataset = 48.94180729059472\n",
      "λ value is  0.5\n",
      "MSE Test dataset = 50.55086497989276\n",
      "λ value is  0.8\n",
      "MSE Test dataset = 51.83447227797506\n",
      "λ value is  1\n",
      "MSE Test dataset = 52.38230677818844\n",
      "λ value is  2\n",
      "MSE Test dataset = 53.938931796414465\n",
      "λ value is  5\n",
      "MSE Test dataset = 56.43338108925811\n",
      "λ value is  10\n",
      "MSE Test dataset = 59.48478375806959\n"
     ]
    }
   ],
   "source": [
    "for λ in arr:\n",
    "    clf = Ridge_R(λ=λ)\n",
    "    clf.fit(X_train, y_train)\n",
    "    y_pred = clf.predict(X_test)\n",
    "    print(\"λ value is \",λ)\n",
    "    print('MSE Test dataset =',mean_squared_error(y_test, y_pred))"
   ]
  },
  {
   "cell_type": "markdown",
   "metadata": {
    "id": "xVka011imPXQ"
   },
   "source": [
    "## We are comparing our model with the sklearn's prebuilt Ridge regression model\n",
    "\n",
    "We find that the MSE value for the test dataset comes out to be exactly the same!"
   ]
  },
  {
   "cell_type": "code",
   "execution_count": 9,
   "metadata": {
    "colab": {
     "base_uri": "https://localhost:8080/"
    },
    "id": "nPBsocBbl9qU",
    "outputId": "08390be5-9192-4f99-d931-db2369454476"
   },
   "outputs": [
    {
     "name": "stdout",
     "output_type": "stream",
     "text": [
      "MSE Test dataset = 27.91907024692098\n"
     ]
    }
   ],
   "source": [
    "from sklearn.linear_model import Ridge\n",
    "clf = Ridge(alpha=0.001)\n",
    "clf.fit(X_train, y_train)\n",
    "y_pred = clf.predict(X_test)\n",
    "print('MSE Test dataset =',mean_squared_error(y_test, y_pred))"
   ]
  },
  {
   "cell_type": "code",
   "execution_count": 10,
   "metadata": {},
   "outputs": [],
   "source": [
    "from sklearn.linear_model import LinearRegression, Lasso, ElasticNet, Ridge\n",
    "from sklearn.tree import DecisionTreeRegressor\n",
    "from sklearn.neighbors import KNeighborsRegressor\n",
    "from sklearn.svm import SVR\n",
    "from sklearn.ensemble import RandomForestRegressor, BaggingRegressor, AdaBoostRegressor, GradientBoostingRegressor, ExtraTreesRegressor\n",
    "from xgboost.sklearn import XGBRegressor"
   ]
  },
  {
   "cell_type": "markdown",
   "metadata": {},
   "source": [
    "## OTHER ML models"
   ]
  },
  {
   "cell_type": "code",
   "execution_count": 11,
   "metadata": {},
   "outputs": [],
   "source": [
    "def print_estimator_name(estimator):\n",
    "    print(estimator.__class__.__name__)\n",
    "\n",
    "def evaluate(model, X_train, X_test, y_train, y_test):\n",
    "    print_estimator_name(model)\n",
    "    #Train Algorithm\n",
    "    model.fit(X_train, y_train)\n",
    "    # Make Predictions\n",
    "    y_pred = model.predict(X_test)\n",
    "    print('MSE Test dataset =',mean_squared_error(y_test, y_pred))"
   ]
  },
  {
   "cell_type": "code",
   "execution_count": 12,
   "metadata": {},
   "outputs": [],
   "source": [
    "models = [RandomForestRegressor(random_state=42),DecisionTreeRegressor(),SVR(gamma='auto'),KNeighborsRegressor(),LinearRegression(),Lasso(),ElasticNet()]"
   ]
  },
  {
   "cell_type": "code",
   "execution_count": 13,
   "metadata": {},
   "outputs": [
    {
     "name": "stdout",
     "output_type": "stream",
     "text": [
      "RandomForestRegressor\n",
      "MSE Test dataset = 11.820080647058816\n",
      "\n",
      "DecisionTreeRegressor\n",
      "MSE Test dataset = 20.275294117647064\n",
      "\n",
      "SVR\n",
      "MSE Test dataset = 70.503031796717\n",
      "\n",
      "KNeighborsRegressor\n",
      "MSE Test dataset = 32.461086274509796\n",
      "\n",
      "LinearRegression\n",
      "MSE Test dataset = 24.538272058823523\n",
      "\n",
      "Lasso\n",
      "MSE Test dataset = 75.01815318208105\n",
      "\n",
      "ElasticNet\n",
      "MSE Test dataset = 74.76272991184568\n",
      "\n"
     ]
    }
   ],
   "source": [
    "for model in models:\n",
    "    evaluate(model,X_train, X_test, y_train, y_test)\n",
    "    print()"
   ]
  },
  {
   "cell_type": "markdown",
   "metadata": {
    "id": "CXvBY2otIj5i"
   },
   "source": [
    "## Print and compare top 10 predictions on test dataset"
   ]
  },
  {
   "cell_type": "code",
   "execution_count": 14,
   "metadata": {
    "colab": {
     "base_uri": "https://localhost:8080/"
    },
    "id": "x4O2H0NfIhFg",
    "outputId": "0793ee83-fbec-4ab3-bea8-26911d3bbe5e"
   },
   "outputs": [
    {
     "name": "stdout",
     "output_type": "stream",
     "text": [
      "predicted = 28.32 ; Actual = 23.6\n",
      "predicted = 32.05 ; Actual = 32.4\n",
      "predicted = 18.4 ; Actual = 13.6\n",
      "predicted = 22.92 ; Actual = 22.8\n",
      "predicted = 20.56 ; Actual = 16.1\n",
      "predicted = 22.39 ; Actual = 20.0\n",
      "predicted = 18.33 ; Actual = 17.8\n",
      "predicted = 14.65 ; Actual = 14.0\n",
      "predicted = 23.01 ; Actual = 19.6\n",
      "predicted = 21.64 ; Actual = 16.8\n"
     ]
    }
   ],
   "source": [
    "for i in range(10):\n",
    "    print('predicted =',round(y_pred[i],2),'; Actual =',y_test[i])"
   ]
  },
  {
   "cell_type": "markdown",
   "metadata": {
    "id": "zw84mabgoe6D"
   },
   "source": [
    "## Cross-validation MSE using Train and Validation dataset"
   ]
  },
  {
   "cell_type": "code",
   "execution_count": 15,
   "metadata": {
    "id": "LmrW5JJZoemk"
   },
   "outputs": [],
   "source": [
    "rs = [0,24,42,100,1]\n",
    "cv_mse = []\n",
    "for i in range(len(rs)):\n",
    "    r = rs[i]\n",
    "    cv = i+1\n",
    "    X_train, X_val, y_train, y_val = train_test_split(X_train1, y_train1, test_size = 0.2, random_state=r)\n",
    "    clf = Ridge_R(λ=0.001)\n",
    "    clf.fit(X_train, y_train)\n",
    "    y_pred = clf.predict(X_val)\n",
    "    m = mean_squared_error(y_val, y_pred)\n",
    "    cv_mse.append(m)\n",
    "cv_mse = np.array(cv_mse)"
   ]
  },
  {
   "cell_type": "code",
   "execution_count": 16,
   "metadata": {},
   "outputs": [
    {
     "name": "stdout",
     "output_type": "stream",
     "text": [
      "Cross Validation MSE= [25.36458032 29.93336936 28.86519825 31.94300478 30.06349012]\n",
      "mean Cross Validation MSE= 29.23392856654106\n",
      "standard deviation of Cross Validation MSE= 2.173674384489164\n"
     ]
    }
   ],
   "source": [
    "print(\"Cross Validation MSE=\",cv_mse)\n",
    "print(\"mean Cross Validation MSE=\",cv_mse.mean())\n",
    "print(\"standard deviation of Cross Validation MSE=\",cv_mse.std())"
   ]
  },
  {
   "cell_type": "markdown",
   "metadata": {},
   "source": [
    "Plotting other important comparisions"
   ]
  },
  {
   "cell_type": "markdown",
   "metadata": {},
   "source": [
    "### Varying the size of test data set"
   ]
  },
  {
   "cell_type": "code",
   "execution_count": 17,
   "metadata": {},
   "outputs": [
    {
     "name": "stdout",
     "output_type": "stream",
     "text": [
      "size of the Test data \t MSE\n",
      "0.05 \t \t \t 80.45926024462035\n",
      "0.1 \t \t \t 53.19853198510418\n",
      "0.15 \t \t \t 43.9136347205153\n",
      "0.2 \t \t \t 35.95212556834975\n",
      "0.25 \t \t \t 36.04040772462962\n",
      "0.3 \t \t \t 33.80655917349242\n",
      "0.35 \t \t \t 37.533987011\n",
      "0.4 \t \t \t 35.86566660197829\n",
      "0.45 \t \t \t 37.60849189636199\n",
      "0.5 \t \t \t 37.48799897130619\n",
      "0.55 \t \t \t 37.289610946884835\n",
      "0.65 \t \t \t 34.3560622566166\n",
      "0.7 \t \t \t 34.78693114243736\n",
      "0.75 \t \t \t 40.70283669491424\n"
     ]
    }
   ],
   "source": [
    "arr_Testsize = [0.05,0.1,0.15,0.2,0.25,0.3,0.35,0.4,0.45,0.5,0.55,0.65,0.7,0.75]\n",
    "cv_mse = []\n",
    "print(\"size of the Test data\", \"\\t\", \"MSE\")\n",
    "for t in arr_Testsize:\n",
    "    cv = i+1\n",
    "    X_train, X_val, y_train, y_val = train_test_split(X_train1, y_train1, test_size = t, random_state=42,shuffle= False)\n",
    "    clf = Ridge_R(λ=0.001)\n",
    "    clf.fit(X_train, y_train)\n",
    "    y_pred = clf.predict(X_val)\n",
    "    m = mean_squared_error(y_val, y_pred)\n",
    "    \n",
    "    print(t,\"\\t\",\"\\t\",\"\\t\",m)\n",
    "    #print('MSE Test dataset =',m)\n",
    "    cv_mse.append(m)\n",
    "cv_mse = np.array(cv_mse)"
   ]
  },
  {
   "cell_type": "code",
   "execution_count": 18,
   "metadata": {},
   "outputs": [
    {
     "data": {
      "image/png": "[encoded data removed]",
      "text/plain": [
       "<Figure size 432x288 with 1 Axes>"
      ]
     },
     "metadata": {
      "needs_background": "light"
     },
     "output_type": "display_data"
    }
   ],
   "source": [
    "plt.plot(arr_Testsize,cv_mse)\n",
    "plt.title('MSE value vs Size of Test data')\n",
    "plt.xlabel('size of test data')\n",
    "plt.ylabel('MSE')\n",
    "plt.savefig(\"MSE vs size of test data .png\",dpi=300, bbox_inches='tight')\n",
    "plt.grid()\n",
    "plt.show()"
   ]
  },
  {
   "cell_type": "markdown",
   "metadata": {},
   "source": [
    "### shuffling = True vs Shuffling = false"
   ]
  },
  {
   "cell_type": "code",
   "execution_count": 19,
   "metadata": {},
   "outputs": [
    {
     "name": "stdout",
     "output_type": "stream",
     "text": [
      "size of test data 0.05\n",
      "MSE Test dataset = 16.175860935647094\n",
      "size of test data 0.1\n",
      "MSE Test dataset = 14.968806866678506\n",
      "size of test data 0.15\n",
      "MSE Test dataset = 32.82352525443388\n",
      "size of test data 0.2\n",
      "MSE Test dataset = 28.865198251050963\n",
      "size of test data 0.25\n",
      "MSE Test dataset = 34.20170326213755\n",
      "size of test data 0.3\n",
      "MSE Test dataset = 32.92581552724002\n",
      "size of test data 0.35\n",
      "MSE Test dataset = 34.65056585976555\n",
      "size of test data 0.4\n",
      "MSE Test dataset = 34.52979913767689\n",
      "size of test data 0.45\n",
      "MSE Test dataset = 36.059614549332466\n",
      "size of test data 0.5\n",
      "MSE Test dataset = 41.96498588835913\n",
      "size of test data 0.55\n",
      "MSE Test dataset = 44.406879511063266\n",
      "size of test data 0.65\n",
      "MSE Test dataset = 42.364918053559045\n",
      "size of test data 0.7\n",
      "MSE Test dataset = 40.75223590977421\n",
      "size of test data 0.75\n",
      "MSE Test dataset = 42.80043643830652\n"
     ]
    }
   ],
   "source": [
    "arr_Testsize = [0.05,0.1,0.15,0.2,0.25,0.3,0.35,0.4,0.45,0.5,0.55,0.65,0.7,0.75]\n",
    "cv_mse = []\n",
    "for t in arr_Testsize:\n",
    "    r = rs[i]\n",
    "    cv = i+1\n",
    "    X_train, X_val, y_train, y_val = train_test_split(X_train1, y_train1, test_size = t, random_state=42,shuffle= True)\n",
    "    clf = Ridge_R(λ=0.001)\n",
    "    clf.fit(X_train, y_train)\n",
    "    y_pred = clf.predict(X_val)\n",
    "    m = mean_squared_error(y_val, y_pred)\n",
    "    print(\"size of test data\",t)\n",
    "    print('MSE Test dataset =',m)\n",
    "    cv_mse.append(m)\n",
    "cv_mse = np.array(cv_mse)"
   ]
  },
  {
   "cell_type": "code",
   "execution_count": 20,
   "metadata": {},
   "outputs": [
    {
     "data": {
      "image/png": "[encoded data removed]",
      "text/plain": [
       "<Figure size 432x288 with 1 Axes>"
      ]
     },
     "metadata": {
      "needs_background": "light"
     },
     "output_type": "display_data"
    }
   ],
   "source": [
    "plt.plot(arr_Testsize,cv_mse)\n",
    "plt.title('MSE value vs Size of Test data')\n",
    "plt.xlabel('size of test data')\n",
    "plt.ylabel('MSE')\n",
    "plt.savefig(\"MSE vs size of test data .png\",dpi=300, bbox_inches='tight')\n",
    "plt.grid()\n",
    "plt.show()"
   ]
  },
  {
   "cell_type": "code",
   "execution_count": 21,
   "metadata": {},
   "outputs": [],
   "source": [
    "arr_Testsize = [0.05,0.1,0.15,0.2,0.25,0.3,0.35,0.4,0.45,0.5,0.55,0.65,0.7,0.75]"
   ]
  },
  {
   "cell_type": "code",
   "execution_count": 22,
   "metadata": {},
   "outputs": [],
   "source": [
    "def print_estimator_name(estimator):\n",
    "    print(estimator.__class__.__name__)\n",
    "\n",
    "def evaluate(model, X_train, X_test, y_train, y_test,t):\n",
    "    print_estimator_name(model)\n",
    "    X_train, X_val, y_train, y_val = train_test_split(X_train1, y_train1, test_size = t, random_state=42,shuffle= True)\n",
    "    #Train Algorithm\n",
    "    model.fit(X_train, y_train)\n",
    "    # Make Predictions\n",
    "    y_pred = model.predict(X_test)\n",
    "    print('MSE Test dataset =',mean_squared_error(y_test, y_pred))"
   ]
  },
  {
   "cell_type": "code",
   "execution_count": 23,
   "metadata": {},
   "outputs": [
    {
     "name": "stdout",
     "output_type": "stream",
     "text": [
      "size of test dataset= 0.05\n",
      "\n",
      "RandomForestRegressor\n",
      "MSE Test dataset = 12.248529980392153\n",
      "\n",
      "DecisionTreeRegressor\n",
      "MSE Test dataset = 12.445686274509802\n",
      "\n",
      "SVR\n",
      "MSE Test dataset = 70.05462680019275\n",
      "\n",
      "KNeighborsRegressor\n",
      "MSE Test dataset = 28.16649019607843\n",
      "\n",
      "LinearRegression\n",
      "MSE Test dataset = 24.34901807598039\n",
      "\n",
      "Lasso\n",
      "MSE Test dataset = 75.45415927039987\n",
      "\n",
      "ElasticNet\n",
      "MSE Test dataset = 75.23859070849568\n",
      "\n",
      "size of test dataset= 0.1\n",
      "\n",
      "RandomForestRegressor\n",
      "MSE Test dataset = 12.028408637254898\n",
      "\n",
      "DecisionTreeRegressor\n",
      "MSE Test dataset = 15.350098039215686\n",
      "\n",
      "SVR\n",
      "MSE Test dataset = 70.30651218950402\n",
      "\n",
      "KNeighborsRegressor\n",
      "MSE Test dataset = 28.943454901960784\n",
      "\n",
      "LinearRegression\n",
      "MSE Test dataset = 24.198351715686275\n",
      "\n",
      "Lasso\n",
      "MSE Test dataset = 75.2217241759532\n",
      "\n",
      "ElasticNet\n",
      "MSE Test dataset = 75.04968810257303\n",
      "\n",
      "size of test dataset= 0.15\n",
      "\n",
      "RandomForestRegressor\n",
      "MSE Test dataset = 11.410328088235289\n",
      "\n",
      "DecisionTreeRegressor\n",
      "MSE Test dataset = 19.228627450980394\n",
      "\n",
      "SVR\n",
      "MSE Test dataset = 70.38343319705204\n",
      "\n",
      "KNeighborsRegressor\n",
      "MSE Test dataset = 31.674372549019605\n",
      "\n",
      "LinearRegression\n",
      "MSE Test dataset = 24.30770228826871\n",
      "\n",
      "Lasso\n",
      "MSE Test dataset = 74.86571471904048\n",
      "\n",
      "ElasticNet\n",
      "MSE Test dataset = 74.66177370070564\n",
      "\n",
      "size of test dataset= 0.2\n",
      "\n",
      "RandomForestRegressor\n",
      "MSE Test dataset = 11.820080647058816\n",
      "\n",
      "DecisionTreeRegressor\n",
      "MSE Test dataset = 19.28578431372549\n",
      "\n",
      "SVR\n",
      "MSE Test dataset = 70.503031796717\n",
      "\n",
      "KNeighborsRegressor\n",
      "MSE Test dataset = 32.461086274509796\n",
      "\n",
      "LinearRegression\n",
      "MSE Test dataset = 24.538272058823523\n",
      "\n",
      "Lasso\n",
      "MSE Test dataset = 75.01815318208105\n",
      "\n",
      "ElasticNet\n",
      "MSE Test dataset = 74.76272991184568\n",
      "\n",
      "size of test dataset= 0.25\n",
      "\n",
      "RandomForestRegressor\n",
      "MSE Test dataset = 11.136758745098037\n",
      "\n",
      "DecisionTreeRegressor\n",
      "MSE Test dataset = 21.04901960784314\n",
      "\n",
      "SVR\n",
      "MSE Test dataset = 70.6583586996089\n",
      "\n",
      "KNeighborsRegressor\n",
      "MSE Test dataset = 32.70032156862745\n",
      "\n",
      "LinearRegression\n",
      "MSE Test dataset = 24.61443108818417\n",
      "\n",
      "Lasso\n",
      "MSE Test dataset = 75.03982181036973\n",
      "\n",
      "ElasticNet\n",
      "MSE Test dataset = 74.78540196418815\n",
      "\n",
      "size of test dataset= 0.3\n",
      "\n",
      "RandomForestRegressor\n",
      "MSE Test dataset = 11.3892622745098\n",
      "\n",
      "DecisionTreeRegressor\n",
      "MSE Test dataset = 18.105686274509807\n",
      "\n",
      "SVR\n",
      "MSE Test dataset = 70.93527651784515\n",
      "\n",
      "KNeighborsRegressor\n",
      "MSE Test dataset = 34.178760784313724\n",
      "\n",
      "LinearRegression\n",
      "MSE Test dataset = 24.77412140773038\n",
      "\n",
      "Lasso\n",
      "MSE Test dataset = 75.33889587161256\n",
      "\n",
      "ElasticNet\n",
      "MSE Test dataset = 75.10997764313943\n",
      "\n",
      "size of test dataset= 0.35\n",
      "\n",
      "RandomForestRegressor\n",
      "MSE Test dataset = 12.701290950980388\n",
      "\n",
      "DecisionTreeRegressor\n",
      "MSE Test dataset = 24.124509803921566\n",
      "\n",
      "SVR\n",
      "MSE Test dataset = 71.18202726568278\n",
      "\n",
      "KNeighborsRegressor\n",
      "MSE Test dataset = 37.41744313725491\n",
      "\n",
      "LinearRegression\n",
      "MSE Test dataset = 24.22218941482844\n",
      "\n",
      "Lasso\n",
      "MSE Test dataset = 74.58342002100065\n",
      "\n",
      "ElasticNet\n",
      "MSE Test dataset = 74.36481278070151\n",
      "\n",
      "size of test dataset= 0.4\n",
      "\n",
      "RandomForestRegressor\n",
      "MSE Test dataset = 11.746202186274507\n",
      "\n",
      "DecisionTreeRegressor\n",
      "MSE Test dataset = 22.23460784313726\n",
      "\n",
      "SVR\n",
      "MSE Test dataset = 71.22471139751747\n",
      "\n",
      "KNeighborsRegressor\n",
      "MSE Test dataset = 36.88701568627451\n",
      "\n",
      "LinearRegression\n",
      "MSE Test dataset = 24.854142156862746\n",
      "\n",
      "Lasso\n",
      "MSE Test dataset = 74.57532295152879\n",
      "\n",
      "ElasticNet\n",
      "MSE Test dataset = 74.37685626612617\n",
      "\n",
      "size of test dataset= 0.45\n",
      "\n",
      "RandomForestRegressor\n",
      "MSE Test dataset = 12.387128754901951\n",
      "\n",
      "DecisionTreeRegressor\n",
      "MSE Test dataset = 18.290784313725492\n",
      "\n",
      "SVR\n",
      "MSE Test dataset = 71.31591759921119\n",
      "\n",
      "KNeighborsRegressor\n",
      "MSE Test dataset = 40.43147450980391\n",
      "\n",
      "LinearRegression\n",
      "MSE Test dataset = 24.723142212114837\n",
      "\n",
      "Lasso\n",
      "MSE Test dataset = 74.64503267973858\n",
      "\n",
      "ElasticNet\n",
      "MSE Test dataset = 74.32104636732971\n",
      "\n",
      "size of test dataset= 0.5\n",
      "\n",
      "RandomForestRegressor\n",
      "MSE Test dataset = 11.64042973529412\n",
      "\n",
      "DecisionTreeRegressor\n",
      "MSE Test dataset = 22.06166666666666\n",
      "\n",
      "SVR\n",
      "MSE Test dataset = 71.43431781934622\n",
      "\n",
      "KNeighborsRegressor\n",
      "MSE Test dataset = 42.97687450980392\n",
      "\n",
      "LinearRegression\n",
      "MSE Test dataset = 25.47429100381408\n",
      "\n",
      "Lasso\n",
      "MSE Test dataset = 73.9058018341147\n",
      "\n",
      "ElasticNet\n",
      "MSE Test dataset = 73.46898891786417\n",
      "\n",
      "size of test dataset= 0.55\n",
      "\n",
      "RandomForestRegressor\n",
      "MSE Test dataset = 14.912998647058826\n",
      "\n",
      "DecisionTreeRegressor\n",
      "MSE Test dataset = 26.14107843137255\n",
      "\n",
      "SVR\n",
      "MSE Test dataset = 71.60466729804457\n",
      "\n",
      "KNeighborsRegressor\n",
      "MSE Test dataset = 39.81460784313726\n",
      "\n",
      "LinearRegression\n",
      "MSE Test dataset = 26.644150518908464\n",
      "\n",
      "Lasso\n",
      "MSE Test dataset = 74.4453446021124\n",
      "\n",
      "ElasticNet\n",
      "MSE Test dataset = 73.93093907456507\n",
      "\n",
      "size of test dataset= 0.65\n",
      "\n",
      "RandomForestRegressor\n",
      "MSE Test dataset = 17.36639537254901\n",
      "\n",
      "DecisionTreeRegressor\n",
      "MSE Test dataset = 24.840294117647055\n",
      "\n",
      "SVR\n",
      "MSE Test dataset = 71.76793373492626\n",
      "\n",
      "KNeighborsRegressor\n",
      "MSE Test dataset = 53.87783921568627\n",
      "\n",
      "LinearRegression\n",
      "MSE Test dataset = 27.224914215686272\n",
      "\n",
      "Lasso\n",
      "MSE Test dataset = 74.63530527225228\n",
      "\n",
      "ElasticNet\n",
      "MSE Test dataset = 73.65134281754813\n",
      "\n",
      "size of test dataset= 0.7\n",
      "\n",
      "RandomForestRegressor\n",
      "MSE Test dataset = 16.84495166666666\n",
      "\n",
      "DecisionTreeRegressor\n",
      "MSE Test dataset = 20.38460784313726\n",
      "\n",
      "SVR\n",
      "MSE Test dataset = 71.99449215206937\n",
      "\n",
      "KNeighborsRegressor\n",
      "MSE Test dataset = 59.77263921568627\n",
      "\n",
      "LinearRegression\n",
      "MSE Test dataset = 29.536464460784316\n",
      "\n",
      "Lasso\n",
      "MSE Test dataset = 74.09577550820889\n",
      "\n",
      "ElasticNet\n",
      "MSE Test dataset = 72.99485446934504\n",
      "\n",
      "size of test dataset= 0.75\n",
      "\n",
      "RandomForestRegressor\n",
      "MSE Test dataset = 23.667726215686276\n",
      "\n",
      "DecisionTreeRegressor\n",
      "MSE Test dataset = 28.51990196078431\n",
      "\n",
      "SVR\n",
      "MSE Test dataset = 73.00192861984709\n",
      "\n",
      "KNeighborsRegressor\n",
      "MSE Test dataset = 64.23586666666667\n",
      "\n",
      "LinearRegression\n",
      "MSE Test dataset = 30.90599959494431\n",
      "\n",
      "Lasso\n",
      "MSE Test dataset = 73.42550359345776\n",
      "\n",
      "ElasticNet\n",
      "MSE Test dataset = 72.58742541484\n",
      "\n"
     ]
    }
   ],
   "source": [
    "for t in arr_Testsize:\n",
    "    print(\"size of test dataset=\",t)\n",
    "    print()\n",
    "    for model in models:\n",
    "        evaluate(model,X_train, X_test, y_train, y_test,t)\n",
    "        print()\n",
    "    "
   ]
  },
  {
   "cell_type": "markdown",
   "metadata": {},
   "source": [
    "### Random Forest regressor with varying test data size"
   ]
  },
  {
   "cell_type": "code",
   "execution_count": 24,
   "metadata": {},
   "outputs": [
    {
     "name": "stdout",
     "output_type": "stream",
     "text": [
      "size of test data 0.05\n",
      "MSE Test dataset = 43.50298695238091\n",
      "size of test data 0.1\n",
      "MSE Test dataset = 27.149500682926817\n",
      "size of test data 0.15\n",
      "MSE Test dataset = 21.39380037704917\n",
      "size of test data 0.2\n",
      "MSE Test dataset = 17.776808333333314\n",
      "size of test data 0.25\n",
      "MSE Test dataset = 19.43797252475247\n",
      "size of test data 0.3\n",
      "MSE Test dataset = 19.1141247295082\n",
      "size of test data 0.35\n",
      "MSE Test dataset = 18.241984859154922\n",
      "size of test data 0.4\n",
      "MSE Test dataset = 17.771896851851842\n",
      "size of test data 0.45\n",
      "MSE Test dataset = 19.015267912087907\n",
      "size of test data 0.5\n",
      "MSE Test dataset = 18.332579014851486\n",
      "size of test data 0.55\n",
      "MSE Test dataset = 18.16208632286995\n",
      "size of test data 0.65\n",
      "MSE Test dataset = 17.392584410646375\n",
      "size of test data 0.7\n",
      "MSE Test dataset = 18.090367731448758\n",
      "size of test data 0.75\n",
      "MSE Test dataset = 21.234224768976887\n"
     ]
    },
    {
     "data": {
      "image/png": "[encoded data removed]",
      "text/plain": [
       "<Figure size 432x288 with 1 Axes>"
      ]
     },
     "metadata": {
      "needs_background": "light"
     },
     "output_type": "display_data"
    }
   ],
   "source": [
    "cv_mse = []\n",
    "for t in arr_Testsize:\n",
    "    cv = i+1\n",
    "    X_train, X_val, y_train, y_val = train_test_split(X_train1, y_train1, test_size = t, random_state=42,shuffle= False)\n",
    "    clf = RandomForestRegressor(random_state=42)\n",
    "    clf.fit(X_train, y_train)\n",
    "    y_pred = clf.predict(X_val)\n",
    "    m = mean_squared_error(y_val, y_pred)\n",
    "    print(\"size of test data\",t)\n",
    "    print('MSE Test dataset =',m)\n",
    "    cv_mse.append(m)\n",
    "cv_mse = np.array(cv_mse)\n",
    "plt.plot(arr_Testsize,cv_mse)\n",
    "plt.title('MSE value vs Size of Test data')\n",
    "plt.xlabel('size of test data')\n",
    "plt.ylabel('MSE')\n",
    "plt.savefig(\"MSE vs size of test data .png\",dpi=300, bbox_inches='tight')\n",
    "plt.grid()\n",
    "plt.show()"
   ]
  },
  {
   "cell_type": "markdown",
   "metadata": {},
   "source": [
    "### Decision Tree Regressor "
   ]
  },
  {
   "cell_type": "code",
   "execution_count": 25,
   "metadata": {},
   "outputs": [
    {
     "name": "stdout",
     "output_type": "stream",
     "text": [
      "size of test data 0.05\n",
      "MSE Test dataset = 56.19666666666666\n",
      "size of test data 0.1\n",
      "MSE Test dataset = 45.62268292682927\n",
      "size of test data 0.15\n",
      "MSE Test dataset = 38.10655737704917\n",
      "size of test data 0.2\n",
      "MSE Test dataset = 33.230493827160494\n",
      "size of test data 0.25\n",
      "MSE Test dataset = 27.015148514851482\n",
      "size of test data 0.3\n",
      "MSE Test dataset = 28.518360655737702\n",
      "size of test data 0.35\n",
      "MSE Test dataset = 29.71352112676057\n",
      "size of test data 0.4\n",
      "MSE Test dataset = 31.311666666666664\n",
      "size of test data 0.45\n",
      "MSE Test dataset = 30.26917582417583\n",
      "size of test data 0.5\n",
      "MSE Test dataset = 28.502722772277224\n",
      "size of test data 0.55\n",
      "MSE Test dataset = 31.987174887892373\n",
      "size of test data 0.65\n",
      "MSE Test dataset = 40.32121673003802\n",
      "size of test data 0.7\n",
      "MSE Test dataset = 40.34325088339222\n",
      "size of test data 0.75\n",
      "MSE Test dataset = 39.25858085808581\n"
     ]
    },
    {
     "data": {
      "image/png": "[encoded data removed]",
      "text/plain": [
       "<Figure size 432x288 with 1 Axes>"
      ]
     },
     "metadata": {
      "needs_background": "light"
     },
     "output_type": "display_data"
    }
   ],
   "source": [
    "cv_mse = []\n",
    "for t in arr_Testsize:\n",
    "    cv = i+1\n",
    "    X_train, X_val, y_train, y_val = train_test_split(X_train1, y_train1, test_size = t, random_state=42,shuffle= False)\n",
    "    clf = DecisionTreeRegressor()\n",
    "    clf.fit(X_train, y_train)\n",
    "    y_pred = clf.predict(X_val)\n",
    "    m = mean_squared_error(y_val, y_pred)\n",
    "    print(\"size of test data\",t)\n",
    "    print('MSE Test dataset =',m)\n",
    "    cv_mse.append(m)\n",
    "cv_mse = np.array(cv_mse)\n",
    "plt.plot(arr_Testsize,cv_mse)\n",
    "plt.title('MSE value vs Size of Test data')\n",
    "plt.xlabel('size of test data')\n",
    "plt.ylabel('MSE')\n",
    "plt.savefig(\"MSE vs size of test data .png\",dpi=300, bbox_inches='tight')\n",
    "plt.grid()\n",
    "plt.show()"
   ]
  },
  {
   "cell_type": "markdown",
   "metadata": {},
   "source": [
    "### Support Vector Regressor"
   ]
  },
  {
   "cell_type": "code",
   "execution_count": 26,
   "metadata": {},
   "outputs": [
    {
     "name": "stdout",
     "output_type": "stream",
     "text": [
      "size of test data 0.05\n",
      "MSE Test dataset = 64.67843639929006\n",
      "size of test data 0.1\n",
      "MSE Test dataset = 73.24749435925163\n",
      "size of test data 0.15\n",
      "MSE Test dataset = 76.19280873811425\n",
      "size of test data 0.2\n",
      "MSE Test dataset = 67.83873693048434\n",
      "size of test data 0.25\n",
      "MSE Test dataset = 71.12072079772157\n",
      "size of test data 0.3\n",
      "MSE Test dataset = 66.34081220356569\n",
      "size of test data 0.35\n",
      "MSE Test dataset = 77.71768512939494\n",
      "size of test data 0.4\n",
      "MSE Test dataset = 83.42268276552309\n",
      "size of test data 0.45\n",
      "MSE Test dataset = 86.37348704595361\n",
      "size of test data 0.5\n",
      "MSE Test dataset = 89.90508671782663\n",
      "size of test data 0.55\n",
      "MSE Test dataset = 89.80414060198451\n",
      "size of test data 0.65\n",
      "MSE Test dataset = 85.97713206088103\n",
      "size of test data 0.7\n",
      "MSE Test dataset = 86.69632868899711\n",
      "size of test data 0.75\n",
      "MSE Test dataset = 96.0332711336484\n"
     ]
    },
    {
     "data": {
      "image/png": "[encoded data removed]",
      "text/plain": [
       "<Figure size 432x288 with 1 Axes>"
      ]
     },
     "metadata": {
      "needs_background": "light"
     },
     "output_type": "display_data"
    }
   ],
   "source": [
    "cv_mse = []\n",
    "for t in arr_Testsize:\n",
    "    cv = i+1\n",
    "    X_train, X_val, y_train, y_val = train_test_split(X_train1, y_train1, test_size = t, random_state=42,shuffle= False)\n",
    "    clf = SVR(gamma='auto')\n",
    "    clf.fit(X_train, y_train)\n",
    "    y_pred = clf.predict(X_val)\n",
    "    m = mean_squared_error(y_val, y_pred)\n",
    "    print(\"size of test data\",t)\n",
    "    print('MSE Test dataset =',m)\n",
    "    cv_mse.append(m)\n",
    "cv_mse = np.array(cv_mse)\n",
    "plt.plot(arr_Testsize,cv_mse)\n",
    "plt.title('MSE value vs Size of Test data')\n",
    "plt.xlabel('size of test data')\n",
    "plt.ylabel('MSE')\n",
    "plt.savefig(\"MSE vs size of test data .png\",dpi=300, bbox_inches='tight')\n",
    "plt.grid()\n",
    "plt.show()"
   ]
  },
  {
   "cell_type": "code",
   "execution_count": null,
   "metadata": {},
   "outputs": [],
   "source": []
  },
  {
   "cell_type": "markdown",
   "metadata": {},
   "source": [
    "# Knn Regressor"
   ]
  },
  {
   "cell_type": "code",
   "execution_count": 27,
   "metadata": {},
   "outputs": [
    {
     "name": "stdout",
     "output_type": "stream",
     "text": [
      "size of test data 0.05\n",
      "MSE Test dataset = 68.22516190476193\n",
      "size of test data 0.1\n",
      "MSE Test dataset = 40.96744390243904\n",
      "size of test data 0.15\n",
      "MSE Test dataset = 41.75203278688525\n",
      "size of test data 0.2\n",
      "MSE Test dataset = 38.84394074074074\n",
      "size of test data 0.25\n",
      "MSE Test dataset = 40.725936633663366\n",
      "size of test data 0.3\n",
      "MSE Test dataset = 34.66887540983606\n",
      "size of test data 0.35\n",
      "MSE Test dataset = 43.43720563380281\n",
      "size of test data 0.4\n",
      "MSE Test dataset = 41.39002962962962\n",
      "size of test data 0.45\n",
      "MSE Test dataset = 44.17960439560439\n",
      "size of test data 0.5\n",
      "MSE Test dataset = 46.314425742574265\n",
      "size of test data 0.55\n",
      "MSE Test dataset = 48.158534529147985\n",
      "size of test data 0.65\n",
      "MSE Test dataset = 48.55640152091254\n",
      "size of test data 0.7\n",
      "MSE Test dataset = 52.261762544169606\n",
      "size of test data 0.75\n",
      "MSE Test dataset = 61.85042376237623\n"
     ]
    },
    {
     "data": {
      "image/png": "[encoded data removed]",
      "text/plain": [
       "<Figure size 432x288 with 1 Axes>"
      ]
     },
     "metadata": {
      "needs_background": "light"
     },
     "output_type": "display_data"
    }
   ],
   "source": [
    "cv_mse = []\n",
    "for t in arr_Testsize:\n",
    "    cv = i+1\n",
    "    X_train, X_val, y_train, y_val = train_test_split(X_train1, y_train1, test_size = t, random_state=42,shuffle= False)\n",
    "    clf = KNeighborsRegressor()\n",
    "    clf.fit(X_train, y_train)\n",
    "    y_pred = clf.predict(X_val)\n",
    "    m = mean_squared_error(y_val, y_pred)\n",
    "    print(\"size of test data\",t)\n",
    "    print('MSE Test dataset =',m)\n",
    "    cv_mse.append(m)\n",
    "cv_mse = np.array(cv_mse)\n",
    "plt.plot(arr_Testsize,cv_mse)\n",
    "plt.title('MSE value vs Size of Test data')\n",
    "plt.xlabel('size of test data')\n",
    "plt.ylabel('MSE')\n",
    "plt.savefig(\"MSE vs size of test data .png\",dpi=300, bbox_inches='tight')\n",
    "plt.grid()\n",
    "plt.show()"
   ]
  },
  {
   "cell_type": "code",
   "execution_count": 28,
   "metadata": {},
   "outputs": [
    {
     "name": "stdout",
     "output_type": "stream",
     "text": [
      "size of test data 0.05\n",
      "MSE Test dataset = 61.0998769708692\n",
      "size of test data 0.1\n",
      "MSE Test dataset = 38.761448170731704\n",
      "size of test data 0.15\n",
      "MSE Test dataset = 30.498767930327865\n",
      "size of test data 0.2\n",
      "MSE Test dataset = 25.47985532407407\n",
      "size of test data 0.25\n",
      "MSE Test dataset = 24.82080416537747\n",
      "size of test data 0.3\n",
      "MSE Test dataset = 24.071640469801803\n",
      "size of test data 0.35\n",
      "MSE Test dataset = 23.762808181970804\n",
      "size of test data 0.4\n",
      "MSE Test dataset = 22.399112785859604\n",
      "size of test data 0.45\n",
      "MSE Test dataset = 22.81627743862194\n",
      "size of test data 0.5\n",
      "MSE Test dataset = 21.907748673721827\n",
      "size of test data 0.55\n",
      "MSE Test dataset = 22.522388277434764\n",
      "size of test data 0.65\n",
      "MSE Test dataset = 21.54673986340288\n",
      "size of test data 0.7\n",
      "MSE Test dataset = 26.382210389736777\n",
      "size of test data 0.75\n",
      "MSE Test dataset = 25.19474283362131\n"
     ]
    },
    {
     "data": {
      "image/png": "[encoded data removed]",
      "text/plain": [
       "<Figure size 432x288 with 1 Axes>"
      ]
     },
     "metadata": {
      "needs_background": "light"
     },
     "output_type": "display_data"
    }
   ],
   "source": [
    "cv_mse = []\n",
    "for t in arr_Testsize:\n",
    "    cv = i+1\n",
    "    X_train, X_val, y_train, y_val = train_test_split(X_train1, y_train1, test_size = t, random_state=42,shuffle= False)\n",
    "    clf = LinearRegression()\n",
    "    clf.fit(X_train, y_train)\n",
    "    y_pred = clf.predict(X_val)\n",
    "    m = mean_squared_error(y_val, y_pred)\n",
    "    print(\"size of test data\",t)\n",
    "    print('MSE Test dataset =',m)\n",
    "    cv_mse.append(m)\n",
    "cv_mse = np.array(cv_mse)\n",
    "plt.plot(arr_Testsize,cv_mse)\n",
    "plt.title('MSE value vs Size of Test data')\n",
    "plt.xlabel('size of test data')\n",
    "plt.ylabel('MSE')\n",
    "plt.savefig(\"MSE vs size of test data .png\",dpi=300, bbox_inches='tight')\n",
    "plt.grid()\n",
    "plt.show()"
   ]
  },
  {
   "cell_type": "markdown",
   "metadata": {},
   "source": [
    "### Linear Regression"
   ]
  },
  {
   "cell_type": "code",
   "execution_count": 29,
   "metadata": {},
   "outputs": [
    {
     "name": "stdout",
     "output_type": "stream",
     "text": [
      "size of test data 0.05\n",
      "MSE Test dataset = 61.0998769708692\n",
      "size of test data 0.1\n",
      "MSE Test dataset = 38.761448170731704\n",
      "size of test data 0.15\n",
      "MSE Test dataset = 30.498767930327865\n",
      "size of test data 0.2\n",
      "MSE Test dataset = 25.47985532407407\n",
      "size of test data 0.25\n",
      "MSE Test dataset = 24.82080416537747\n",
      "size of test data 0.3\n",
      "MSE Test dataset = 24.071640469801803\n",
      "size of test data 0.35\n",
      "MSE Test dataset = 23.762808181970804\n",
      "size of test data 0.4\n",
      "MSE Test dataset = 22.399112785859604\n",
      "size of test data 0.45\n",
      "MSE Test dataset = 22.81627743862194\n",
      "size of test data 0.5\n",
      "MSE Test dataset = 21.907748673721827\n",
      "size of test data 0.55\n",
      "MSE Test dataset = 22.522388277434764\n",
      "size of test data 0.65\n",
      "MSE Test dataset = 21.54673986340288\n",
      "size of test data 0.7\n",
      "MSE Test dataset = 26.382210389736777\n",
      "size of test data 0.75\n",
      "MSE Test dataset = 25.19474283362131\n"
     ]
    },
    {
     "data": {
      "image/png": "[encoded data removed]",
      "text/plain": [
       "<Figure size 432x288 with 1 Axes>"
      ]
     },
     "metadata": {
      "needs_background": "light"
     },
     "output_type": "display_data"
    }
   ],
   "source": [
    "cv_mse = []\n",
    "for t in arr_Testsize:\n",
    "    cv = i+1\n",
    "    X_train, X_val, y_train, y_val = train_test_split(X_train1, y_train1, test_size = t, random_state=42,shuffle= False)\n",
    "    clf = LinearRegression()\n",
    "    clf.fit(X_train, y_train)\n",
    "    y_pred = clf.predict(X_val)\n",
    "    m = mean_squared_error(y_val, y_pred)\n",
    "    print(\"size of test data\",t)\n",
    "    print('MSE Test dataset =',m)\n",
    "    cv_mse.append(m)\n",
    "cv_mse = np.array(cv_mse)\n",
    "plt.plot(arr_Testsize,cv_mse)\n",
    "plt.title('MSE value vs Size of Test data')\n",
    "plt.xlabel('size of test data')\n",
    "plt.ylabel('MSE')\n",
    "plt.savefig(\"MSE vs size of test data .png\",dpi=300, bbox_inches='tight')\n",
    "plt.grid()\n",
    "plt.show()"
   ]
  },
  {
   "cell_type": "markdown",
   "metadata": {},
   "source": [
    "### Lasso "
   ]
  },
  {
   "cell_type": "code",
   "execution_count": 30,
   "metadata": {},
   "outputs": [
    {
     "name": "stdout",
     "output_type": "stream",
     "text": [
      "size of test data 0.05\n",
      "MSE Test dataset = 66.60518001641958\n",
      "size of test data 0.1\n",
      "MSE Test dataset = 72.1259239848597\n",
      "size of test data 0.15\n",
      "MSE Test dataset = 76.24519952863402\n",
      "size of test data 0.2\n",
      "MSE Test dataset = 70.31674782848039\n",
      "size of test data 0.25\n",
      "MSE Test dataset = 71.94854534958446\n",
      "size of test data 0.3\n",
      "MSE Test dataset = 67.09505473138948\n",
      "size of test data 0.35\n",
      "MSE Test dataset = 77.64538535009369\n",
      "size of test data 0.4\n",
      "MSE Test dataset = 82.74284570599559\n",
      "size of test data 0.45\n",
      "MSE Test dataset = 84.84655654243494\n",
      "size of test data 0.5\n",
      "MSE Test dataset = 88.4678453092834\n",
      "size of test data 0.55\n",
      "MSE Test dataset = 89.03513557285315\n",
      "size of test data 0.65\n",
      "MSE Test dataset = 86.42043588629915\n",
      "size of test data 0.7\n",
      "MSE Test dataset = 85.07087527329588\n",
      "size of test data 0.75\n",
      "MSE Test dataset = 90.94341861908963\n"
     ]
    },
    {
     "data": {
      "image/png": "[encoded data removed]",
      "text/plain": [
       "<Figure size 432x288 with 1 Axes>"
      ]
     },
     "metadata": {
      "needs_background": "light"
     },
     "output_type": "display_data"
    }
   ],
   "source": [
    "cv_mse = []\n",
    "for t in arr_Testsize:\n",
    "    cv = i+1\n",
    "    X_train, X_val, y_train, y_val = train_test_split(X_train1, y_train1, test_size = t, random_state=42,shuffle= False)\n",
    "    clf = Lasso()\n",
    "    clf.fit(X_train, y_train)\n",
    "    y_pred = clf.predict(X_val)\n",
    "    m = mean_squared_error(y_val, y_pred)\n",
    "    print(\"size of test data\",t)\n",
    "    print('MSE Test dataset =',m)\n",
    "    cv_mse.append(m)\n",
    "cv_mse = np.array(cv_mse)\n",
    "plt.plot(arr_Testsize,cv_mse)\n",
    "plt.title('MSE value vs Size of Test data')\n",
    "plt.xlabel('size of test data')\n",
    "plt.ylabel('MSE')\n",
    "plt.savefig(\"MSE vs size of test data .png\",dpi=300, bbox_inches='tight')\n",
    "plt.grid()\n",
    "plt.show()"
   ]
  },
  {
   "cell_type": "markdown",
   "metadata": {},
   "source": [
    "### Elastic Net"
   ]
  },
  {
   "cell_type": "code",
   "execution_count": 31,
   "metadata": {},
   "outputs": [
    {
     "name": "stdout",
     "output_type": "stream",
     "text": [
      "size of test data 0.05\n",
      "MSE Test dataset = 66.53838817594978\n",
      "size of test data 0.1\n",
      "MSE Test dataset = 71.98708404783825\n",
      "size of test data 0.15\n",
      "MSE Test dataset = 76.04544017519828\n",
      "size of test data 0.2\n",
      "MSE Test dataset = 70.08014064973183\n",
      "size of test data 0.25\n",
      "MSE Test dataset = 71.66956281056477\n",
      "size of test data 0.3\n",
      "MSE Test dataset = 66.7697919081311\n",
      "size of test data 0.35\n",
      "MSE Test dataset = 77.28639787057578\n",
      "size of test data 0.4\n",
      "MSE Test dataset = 82.50167556157915\n",
      "size of test data 0.45\n",
      "MSE Test dataset = 84.65684673170664\n",
      "size of test data 0.5\n",
      "MSE Test dataset = 88.30554340528641\n",
      "size of test data 0.55\n",
      "MSE Test dataset = 88.91149834936577\n",
      "size of test data 0.65\n",
      "MSE Test dataset = 86.35090002414061\n",
      "size of test data 0.7\n",
      "MSE Test dataset = 84.85476783565336\n",
      "size of test data 0.75\n",
      "MSE Test dataset = 90.77592343522517\n"
     ]
    },
    {
     "data": {
      "image/png": "[encoded data removed]",
      "text/plain": [
       "<Figure size 432x288 with 1 Axes>"
      ]
     },
     "metadata": {
      "needs_background": "light"
     },
     "output_type": "display_data"
    }
   ],
   "source": [
    "cv_mse = []\n",
    "for t in arr_Testsize:\n",
    "    cv = i+1\n",
    "    X_train, X_val, y_train, y_val = train_test_split(X_train1, y_train1, test_size = t, random_state=42,shuffle= False)\n",
    "    clf = ElasticNet()\n",
    "    clf.fit(X_train, y_train)\n",
    "    y_pred = clf.predict(X_val)\n",
    "    m = mean_squared_error(y_val, y_pred)\n",
    "    print(\"size of test data\",t)\n",
    "    print('MSE Test dataset =',m)\n",
    "    cv_mse.append(m)\n",
    "cv_mse = np.array(cv_mse)\n",
    "plt.plot(arr_Testsize,cv_mse)\n",
    "plt.title('MSE value vs Size of Test data')\n",
    "plt.xlabel('size of test data')\n",
    "plt.ylabel('MSE')\n",
    "plt.savefig(\"MSE vs size of test data .png\",dpi=300, bbox_inches='tight')\n",
    "plt.grid()\n",
    "plt.show()"
   ]
  },
  {
   "cell_type": "markdown",
   "metadata": {},
   "source": [
    "### Polynomial Ridge regression"
   ]
  },
  {
   "cell_type": "code",
   "execution_count": 46,
   "metadata": {},
   "outputs": [],
   "source": [
    "class Ridge_R():\n",
    "      \n",
    "    def __init__(self, λ=1e-1):\n",
    "        self.λ = λ # Ridge regression parameter\n",
    "          \n",
    "    def fit(self, X, y,d):\n",
    "        self.m, self.n = X.shape\n",
    "        I = np.identity(np.transpose(X).shape[0] , dtype = float)\n",
    "        z1 = (((X.T @ X)+1*I)**d + self.λ * np.eye(self.n))\n",
    "        z2 = X.T @ y\n",
    "        self.W = (np.linalg.inv(z1) @ z2)\n",
    "\n",
    "    def predict(self, X):    \n",
    "        return (X.dot(self.W))"
   ]
  },
  {
   "cell_type": "code",
   "execution_count": 47,
   "metadata": {},
   "outputs": [
    {
     "name": "stdout",
     "output_type": "stream",
     "text": [
      "Best Ridge regression hyperparameter degree value = 3 (lowest MSE)\n",
      "\n"
     ]
    },
    {
     "data": {
      "image/png": "[encoded data removed]",
      "text/plain": [
       "<Figure size 432x288 with 1 Axes>"
      ]
     },
     "metadata": {
      "needs_background": "light"
     },
     "output_type": "display_data"
    }
   ],
   "source": [
    "arr = [3,6,9, 12, 15, 18, 21, 24, 27, 30] \n",
    "\n",
    "mse = []\n",
    "best = arr[0]\n",
    "low_m = np.inf\n",
    "for d in arr:\n",
    "    clf = Ridge_R(λ=1)\n",
    "    clf.fit(X_train, y_train,d)\n",
    "    y_pred = clf.predict(X_val)\n",
    "    m = mean_squared_error(y_val, y_pred)\n",
    "    if m < low_m:\n",
    "        best = d\n",
    "        low_m = m\n",
    "    mse.append(m)\n",
    "\n",
    "print('Best Ridge regression hyperparameter degree value =',best,'(lowest MSE)\\n')\n",
    "\n",
    "plt.plot(arr,mse)\n",
    "plt.title('MSE value vs Ridge regression hyperparameter degree')\n",
    "plt.xlabel('degree')\n",
    "plt.ylabel('MSE')\n",
    "plt.savefig(\"MSE vs λ (without normalization) .png\",dpi=300, bbox_inches='tight')\n",
    "plt.grid()\n",
    "plt.show()"
   ]
  },
  {
   "cell_type": "code",
   "execution_count": null,
   "metadata": {},
   "outputs": [],
   "source": []
  }
 ],
 "metadata": {
  "celltoolbar": "Tags",
  "colab": {
   "collapsed_sections": [],
   "name": "ridge_modified.ipynb",
   "provenance": []
  },
  "kernelspec": {
   "display_name": "Python 3",
   "language": "python",
   "name": "python3"
  },
  "language_info": {
   "codemirror_mode": {
    "name": "ipython",
    "version": 3
   },
   "file_extension": ".py",
   "mimetype": "text/x-python",
   "name": "python",
   "nbconvert_exporter": "python",
   "pygments_lexer": "ipython3",
   "version": "3.8.8"
  }
 },
 "nbformat": 4,
 "nbformat_minor": 1
}
