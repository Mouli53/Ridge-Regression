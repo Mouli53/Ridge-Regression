{
 "cells": [
  {
   "cell_type": "code",
   "execution_count": 1,
   "metadata": {
    "id": "NI0tlqau_fPl"
   },
   "outputs": [],
   "source": [
    "import numpy as np\n",
    "import pandas as pd\n",
    "import matplotlib.pyplot as plt\n",
    "from sklearn.datasets import load_boston\n",
    "from sklearn.model_selection import train_test_split\n",
    "from sklearn.model_selection import cross_validate\n",
    "from sklearn.metrics import mean_squared_error\n",
    "from sklearn.naive_bayes import MultinomialNB\n",
    "from sklearn.ensemble import RandomForestClassifier\n",
    "from sklearn.svm import LinearSVC\n",
    "from sklearn.linear_model import LogisticRegression\n",
    "import warnings\n",
    "warnings.filterwarnings('ignore')"
   ]
  },
  {
   "cell_type": "markdown",
   "metadata": {
    "id": "DRbu8qK-1vXM"
   },
   "source": [
    "## Ridge Regression scratch"
   ]
  },
  {
   "cell_type": "code",
   "execution_count": 2,
   "metadata": {
    "id": "NY3EJPRIx0uR"
   },
   "outputs": [],
   "source": [
    "class Ridge_R():\n",
    "      \n",
    "    def __init__(self, λ=1e-1):\n",
    "        self.λ = λ # Ridge regression parameter\n",
    "          \n",
    "    def fit(self, X, y):\n",
    "        self.m, self.n = X.shape\n",
    "        z1 = (X.T @ X + self.λ * np.eye(self.n))\n",
    "        z2 = X.T @ y\n",
    "        self.W = np.linalg.inv(z1) @ z2\n",
    "\n",
    "    def predict(self, X):    \n",
    "        return X.dot(self.W)"
   ]
  },
  {
   "cell_type": "markdown",
   "metadata": {
    "id": "ZDlUR0t16fFb"
   },
   "source": [
    "## Loading boston dataset\n",
    "\n",
    "Boston housing dataset (train and test files) is taken from sklearn's `load_boston` module\n",
    "\n",
    "`Note:` You can add any dataset of the form X,y where\n",
    "\n",
    "**X** must be of the form (samples, features)"
   ]
  },
  {
   "cell_type": "code",
   "execution_count": 3,
   "metadata": {
    "id": "Snkbi0HJ3s58"
   },
   "outputs": [],
   "source": [
    "X, y = load_boston(return_X_y=True)"
   ]
  },
  {
   "cell_type": "markdown",
   "metadata": {
    "id": "WAVqeWdTjVI1"
   },
   "source": [
    "## Normalization of the data"
   ]
  },
  {
   "cell_type": "code",
   "execution_count": 4,
   "metadata": {
    "id": "5ozDM0MhjXZO"
   },
   "outputs": [],
   "source": [
    "#row_sums = X.sum(axis=1)\n",
    "#X = X / row_sums[:, np.newaxis]"
   ]
  },
  {
   "cell_type": "markdown",
   "metadata": {
    "id": "-LVduso9j60Z"
   },
   "source": [
    "## Train-Validation-Test split\n"
   ]
  },
  {
   "cell_type": "code",
   "execution_count": 5,
   "metadata": {
    "id": "QTQeaYWq5tON"
   },
   "outputs": [],
   "source": [
    "X_train1, X_test, y_train1, y_test = train_test_split(X, y, test_size=0.2, random_state=42)\n",
    "X_train, X_val, y_train, y_val = train_test_split(X_train1, y_train1, test_size = 0.2, random_state=42)"
   ]
  },
  {
   "cell_type": "markdown",
   "metadata": {
    "id": "ufwkJnk-FyFF"
   },
   "source": [
    "### Adding columns of ones to dataset to incorporate bias term"
   ]
  },
  {
   "cell_type": "code",
   "execution_count": 6,
   "metadata": {
    "id": "I_3n6B-5BDeP"
   },
   "outputs": [],
   "source": [
    "X_train = np.c_[np.ones(X_train.shape), X_train]\n",
    "X_train1 = np.c_[np.ones(X_train1.shape), X_train1]\n",
    "X_val = np.c_[np.ones(X_val.shape), X_val]\n",
    "X_test = np.c_[np.ones(X_test.shape), X_test]"
   ]
  },
  {
   "cell_type": "markdown",
   "metadata": {
    "id": "C4aymHLV7uib"
   },
   "source": [
    "## Training and hyper-parameter tuning using validation set"
   ]
  },
  {
   "cell_type": "code",
   "execution_count": 7,
   "metadata": {
    "colab": {
     "base_uri": "https://localhost:8080/",
     "height": 330
    },
    "id": "GBi5KpUo7i85",
    "outputId": "b78ee977-5f5b-41f7-e570-fec64d67082b"
   },
   "outputs": [
    {
     "name": "stdout",
     "output_type": "stream",
     "text": [
      "Best Ridge regression hyperparameter λ value = 0.5 (lowest MSE)\n",
      "\n"
     ]
    },
    {
     "data": {
      "image/png": "[encoded data removed]",
      "text/plain": [
       "<Figure size 432x288 with 1 Axes>"
      ]
     },
     "metadata": {
      "needs_background": "light"
     },
     "output_type": "display_data"
    }
   ],
   "source": [
    "arr = [0.001, 0.005, 0.01, 0.02, 0.04, 0.05, 0.1, 0.2, 0.3, 0.5, 0.8, 1, 2, 5, 10] \n",
    "\n",
    "mse = []\n",
    "best = arr[0]\n",
    "low_m = np.inf\n",
    "for λ in arr:\n",
    "    clf = Ridge_R(λ=λ)\n",
    "    clf.fit(X_train, y_train)\n",
    "    y_pred = clf.predict(X_val)\n",
    "    m = mean_squared_error(y_val, y_pred)\n",
    "    if m < low_m:\n",
    "        best = λ\n",
    "        low_m = m\n",
    "    mse.append(m)\n",
    "\n",
    "print('Best Ridge regression hyperparameter λ value =',best,'(lowest MSE)\\n')\n",
    "\n",
    "plt.plot(arr,mse)\n",
    "plt.title('MSE value vs Ridge regression hyperparameter λ')\n",
    "plt.xlabel('λ')\n",
    "plt.ylabel('MSE')\n",
    "plt.savefig(\"MSE vs λ (without normalization) .png\",dpi=300, bbox_inches='tight')\n",
    "plt.grid()\n",
    "plt.show()"
   ]
  },
  {
   "cell_type": "markdown",
   "metadata": {
    "id": "dTqEQB8YIZg5"
   },
   "source": [
    "## Train and predict on test set using best hyper-parameter"
   ]
  },
  {
   "cell_type": "code",
   "execution_count": 8,
   "metadata": {
    "colab": {
     "base_uri": "https://localhost:8080/"
    },
    "id": "74RAMK5CIdBY",
    "outputId": "a655eccf-9879-4eb9-b404-031e45b6f35d"
   },
   "outputs": [
    {
     "name": "stdout",
     "output_type": "stream",
     "text": [
      "λ value is  0.001\n",
      "MSE Test dataset = 25.102212365627878\n",
      "λ value is  0.005\n",
      "MSE Test dataset = 25.10277807933155\n",
      "λ value is  0.01\n",
      "MSE Test dataset = 25.103541849472215\n",
      "λ value is  0.02\n",
      "MSE Test dataset = 25.105250491597744\n",
      "λ value is  0.04\n",
      "MSE Test dataset = 25.109338940560306\n",
      "λ value is  0.05\n",
      "MSE Test dataset = 25.11169042010527\n",
      "λ value is  0.1\n",
      "MSE Test dataset = 25.126027041736773\n",
      "λ value is  0.2\n",
      "MSE Test dataset = 25.16381021021449\n",
      "λ value is  0.3\n",
      "MSE Test dataset = 25.20829470703442\n",
      "λ value is  0.5\n",
      "MSE Test dataset = 25.303240200788025\n",
      "λ value is  0.8\n",
      "MSE Test dataset = 25.439496104718014\n",
      "λ value is  1\n",
      "MSE Test dataset = 25.521100151630474\n",
      "λ value is  2\n",
      "MSE Test dataset = 25.8261755797064\n",
      "λ value is  5\n",
      "MSE Test dataset = 26.25865575059442\n",
      "λ value is  10\n",
      "MSE Test dataset = 26.542136224269534\n"
     ]
    }
   ],
   "source": [
    "for λ in arr:\n",
    "    clf = Ridge_R(λ=λ)\n",
    "    clf.fit(X_train, y_train)\n",
    "    y_pred = clf.predict(X_test)\n",
    "    print(\"λ value is \",λ)\n",
    "    print('MSE Test dataset =',mean_squared_error(y_test, y_pred))"
   ]
  },
  {
   "cell_type": "markdown",
   "metadata": {
    "id": "xVka011imPXQ"
   },
   "source": [
    "## We are comparing our model with the sklearn's prebuilt Ridge regression model\n",
    "\n",
    "We find that the MSE value for the test dataset comes out to be exactly the same!"
   ]
  },
  {
   "cell_type": "code",
   "execution_count": 9,
   "metadata": {
    "colab": {
     "base_uri": "https://localhost:8080/"
    },
    "id": "nPBsocBbl9qU",
    "outputId": "08390be5-9192-4f99-d931-db2369454476"
   },
   "outputs": [
    {
     "name": "stdout",
     "output_type": "stream",
     "text": [
      "MSE Test dataset = 25.101806188425005\n"
     ]
    }
   ],
   "source": [
    "from sklearn.linear_model import Ridge\n",
    "clf = Ridge(alpha=0.001)\n",
    "clf.fit(X_train, y_train)\n",
    "y_pred = clf.predict(X_test)\n",
    "print('MSE Test dataset =',mean_squared_error(y_test, y_pred))"
   ]
  },
  {
   "cell_type": "code",
   "execution_count": 10,
   "metadata": {},
   "outputs": [],
   "source": [
    "from sklearn.linear_model import LinearRegression, Lasso, ElasticNet, Ridge\n",
    "from sklearn.tree import DecisionTreeRegressor\n",
    "from sklearn.neighbors import KNeighborsRegressor\n",
    "from sklearn.svm import SVR\n",
    "from sklearn.ensemble import RandomForestRegressor, BaggingRegressor, AdaBoostRegressor, GradientBoostingRegressor, ExtraTreesRegressor\n",
    "from xgboost.sklearn import XGBRegressor"
   ]
  },
  {
   "cell_type": "markdown",
   "metadata": {},
   "source": [
    "## OTHER ML models"
   ]
  },
  {
   "cell_type": "code",
   "execution_count": 11,
   "metadata": {},
   "outputs": [],
   "source": [
    "def print_estimator_name(estimator):\n",
    "    print(estimator.__class__.__name__)\n",
    "\n",
    "def evaluate(model, X_train, X_test, y_train, y_test):\n",
    "    print_estimator_name(model)\n",
    "    #Train Algorithm\n",
    "    model.fit(X_train, y_train)\n",
    "    # Make Predictions\n",
    "    y_pred = model.predict(X_test)\n",
    "    print('MSE Test dataset =',mean_squared_error(y_test, y_pred))"
   ]
  },
  {
   "cell_type": "code",
   "execution_count": 12,
   "metadata": {},
   "outputs": [],
   "source": [
    "models = [RandomForestRegressor(random_state=42),DecisionTreeRegressor(),SVR(gamma='auto'),KNeighborsRegressor(),LinearRegression(),Lasso(),ElasticNet()]"
   ]
  },
  {
   "cell_type": "code",
   "execution_count": 13,
   "metadata": {},
   "outputs": [
    {
     "name": "stdout",
     "output_type": "stream",
     "text": [
      "RandomForestRegressor\n",
      "MSE Test dataset = 12.019076843137254\n",
      "\n",
      "DecisionTreeRegressor\n",
      "MSE Test dataset = 28.75392156862745\n",
      "\n",
      "SVR\n",
      "MSE Test dataset = 70.78495549151694\n",
      "\n",
      "KNeighborsRegressor\n",
      "MSE Test dataset = 32.584886274509806\n",
      "\n",
      "LinearRegression\n",
      "MSE Test dataset = 25.102077370747917\n",
      "\n",
      "Lasso\n",
      "MSE Test dataset = 24.53873080268383\n",
      "\n",
      "ElasticNet\n",
      "MSE Test dataset = 23.94629771674362\n",
      "\n"
     ]
    }
   ],
   "source": [
    "for model in models:\n",
    "    evaluate(model,X_train, X_test, y_train, y_test)\n",
    "    print()"
   ]
  },
  {
   "cell_type": "markdown",
   "metadata": {
    "id": "CXvBY2otIj5i"
   },
   "source": [
    "## Print and compare top 10 predictions on test dataset"
   ]
  },
  {
   "cell_type": "code",
   "execution_count": 14,
   "metadata": {
    "colab": {
     "base_uri": "https://localhost:8080/"
    },
    "id": "x4O2H0NfIhFg",
    "outputId": "0793ee83-fbec-4ab3-bea8-26911d3bbe5e"
   },
   "outputs": [
    {
     "name": "stdout",
     "output_type": "stream",
     "text": [
      "predicted = 29.02 ; Actual = 23.6\n",
      "predicted = 36.08 ; Actual = 32.4\n",
      "predicted = 15.8 ; Actual = 13.6\n",
      "predicted = 24.45 ; Actual = 22.8\n",
      "predicted = 18.71 ; Actual = 16.1\n",
      "predicted = 23.52 ; Actual = 20.0\n",
      "predicted = 17.75 ; Actual = 17.8\n",
      "predicted = 15.12 ; Actual = 14.0\n",
      "predicted = 22.97 ; Actual = 19.6\n",
      "predicted = 20.67 ; Actual = 16.8\n"
     ]
    }
   ],
   "source": [
    "for i in range(10):\n",
    "    print('predicted =',round(y_pred[i],2),'; Actual =',y_test[i])"
   ]
  },
  {
   "cell_type": "markdown",
   "metadata": {
    "id": "zw84mabgoe6D"
   },
   "source": [
    "## Cross-validation MSE using Train and Validation dataset"
   ]
  },
  {
   "cell_type": "code",
   "execution_count": 15,
   "metadata": {
    "id": "LmrW5JJZoemk"
   },
   "outputs": [],
   "source": [
    "rs = [0,24,42,100,1]\n",
    "cv_mse = []\n",
    "for i in range(len(rs)):\n",
    "    r = rs[i]\n",
    "    cv = i+1\n",
    "    X_train, X_val, y_train, y_val = train_test_split(X_train1, y_train1, test_size = 0.2, random_state=r)\n",
    "    clf = Ridge_R(λ=0.001)\n",
    "    clf.fit(X_train, y_train)\n",
    "    y_pred = clf.predict(X_val)\n",
    "    m = mean_squared_error(y_val, y_pred)\n",
    "    cv_mse.append(m)\n",
    "cv_mse = np.array(cv_mse)"
   ]
  },
  {
   "cell_type": "code",
   "execution_count": 16,
   "metadata": {},
   "outputs": [
    {
     "name": "stdout",
     "output_type": "stream",
     "text": [
      "Cross Validation MSE= [21.26112946 20.9069267  23.28536341 23.41514829 25.69456617]\n",
      "mean Cross Validation MSE= 22.91262680755653\n",
      "standard deviation of Cross Validation MSE= 1.7251622228723038\n"
     ]
    }
   ],
   "source": [
    "print(\"Cross Validation MSE=\",cv_mse)\n",
    "print(\"mean Cross Validation MSE=\",cv_mse.mean())\n",
    "print(\"standard deviation of Cross Validation MSE=\",cv_mse.std())"
   ]
  },
  {
   "cell_type": "markdown",
   "metadata": {},
   "source": [
    "Plotting other important comparisions"
   ]
  },
  {
   "cell_type": "markdown",
   "metadata": {},
   "source": [
    "### Varying the size of test data set"
   ]
  },
  {
   "cell_type": "code",
   "execution_count": 40,
   "metadata": {},
   "outputs": [
    {
     "name": "stdout",
     "output_type": "stream",
     "text": [
      "size of the Test data \t MSE\n",
      "0.05 \t \t \t 49.68909744744647\n",
      "0.1 \t \t \t 32.514800418612424\n",
      "0.15 \t \t \t 26.296271414422925\n",
      "0.2 \t \t \t 22.42898660742427\n",
      "0.25 \t \t \t 22.279826944956127\n",
      "0.3 \t \t \t 21.750785317127015\n",
      "0.35 \t \t \t 21.58424372724469\n",
      "0.4 \t \t \t 21.107608847514992\n",
      "0.45 \t \t \t 22.498201240674334\n",
      "0.5 \t \t \t 22.459176745573824\n",
      "0.55 \t \t \t 22.80607610432162\n",
      "0.65 \t \t \t 22.124161966150837\n",
      "0.7 \t \t \t 31.61024360012393\n",
      "0.75 \t \t \t 27.866213220411264\n"
     ]
    }
   ],
   "source": [
    "arr_Testsize = [0.05,0.1,0.15,0.2,0.25,0.3,0.35,0.4,0.45,0.5,0.55,0.65,0.7,0.75]\n",
    "cv_mse = []\n",
    "print(\"size of the Test data\", \"\\t\", \"MSE\")\n",
    "for t in arr_Testsize:\n",
    "    cv = i+1\n",
    "    X_train, X_val, y_train, y_val = train_test_split(X_train1, y_train1, test_size = t, random_state=42,shuffle= False)\n",
    "    clf = Ridge_R(λ=0.001)\n",
    "    clf.fit(X_train, y_train)\n",
    "    y_pred = clf.predict(X_val)\n",
    "    m = mean_squared_error(y_val, y_pred)\n",
    "    \n",
    "    print(t,\"\\t\",\"\\t\",\"\\t\",m)\n",
    "    #print('MSE Test dataset =',m)\n",
    "    cv_mse.append(m)\n",
    "cv_mse = np.array(cv_mse)"
   ]
  },
  {
   "cell_type": "code",
   "execution_count": 18,
   "metadata": {},
   "outputs": [
    {
     "data": {
      "image/png": "[encoded data removed]",
      "text/plain": [
       "<Figure size 432x288 with 1 Axes>"
      ]
     },
     "metadata": {
      "needs_background": "light"
     },
     "output_type": "display_data"
    }
   ],
   "source": [
    "plt.plot(arr_Testsize,cv_mse)\n",
    "plt.title('MSE value vs Size of Test data')\n",
    "plt.xlabel('size of test data')\n",
    "plt.ylabel('MSE')\n",
    "plt.savefig(\"MSE vs size of test data .png\",dpi=300, bbox_inches='tight')\n",
    "plt.grid()\n",
    "plt.show()"
   ]
  },
  {
   "cell_type": "markdown",
   "metadata": {},
   "source": [
    "### shuffling = True vs Shuffling = false"
   ]
  },
  {
   "cell_type": "code",
   "execution_count": 19,
   "metadata": {},
   "outputs": [
    {
     "name": "stdout",
     "output_type": "stream",
     "text": [
      "size of test data 0.05\n",
      "MSE Test dataset = 15.538090381465944\n",
      "size of test data 0.1\n",
      "MSE Test dataset = 13.546976075551207\n",
      "size of test data 0.15\n",
      "MSE Test dataset = 27.855147010759886\n",
      "size of test data 0.2\n",
      "MSE Test dataset = 23.285363414698956\n",
      "size of test data 0.25\n",
      "MSE Test dataset = 22.36426404427338\n",
      "size of test data 0.3\n",
      "MSE Test dataset = 23.549313201056485\n",
      "size of test data 0.35\n",
      "MSE Test dataset = 23.245970989144485\n",
      "size of test data 0.4\n",
      "MSE Test dataset = 23.247237563160823\n",
      "size of test data 0.45\n",
      "MSE Test dataset = 22.917816385538373\n",
      "size of test data 0.5\n",
      "MSE Test dataset = 27.683424945703187\n",
      "size of test data 0.55\n",
      "MSE Test dataset = 33.15808561688367\n",
      "size of test data 0.65\n",
      "MSE Test dataset = 30.668986191365054\n",
      "size of test data 0.7\n",
      "MSE Test dataset = 30.309963189896933\n",
      "size of test data 0.75\n",
      "MSE Test dataset = 30.469689755002516\n"
     ]
    }
   ],
   "source": [
    "arr_Testsize = [0.05,0.1,0.15,0.2,0.25,0.3,0.35,0.4,0.45,0.5,0.55,0.65,0.7,0.75]\n",
    "cv_mse = []\n",
    "for t in arr_Testsize:\n",
    "    r = rs[i]\n",
    "    cv = i+1\n",
    "    X_train, X_val, y_train, y_val = train_test_split(X_train1, y_train1, test_size = t, random_state=42,shuffle= True)\n",
    "    clf = Ridge_R(λ=0.001)\n",
    "    clf.fit(X_train, y_train)\n",
    "    y_pred = clf.predict(X_val)\n",
    "    m = mean_squared_error(y_val, y_pred)\n",
    "    print(\"size of test data\",t)\n",
    "    print('MSE Test dataset =',m)\n",
    "    cv_mse.append(m)\n",
    "cv_mse = np.array(cv_mse)"
   ]
  },
  {
   "cell_type": "code",
   "execution_count": 20,
   "metadata": {},
   "outputs": [
    {
     "data": {
      "image/png": "[encoded data removed]",
      "text/plain": [
       "<Figure size 432x288 with 1 Axes>"
      ]
     },
     "metadata": {
      "needs_background": "light"
     },
     "output_type": "display_data"
    }
   ],
   "source": [
    "plt.plot(arr_Testsize,cv_mse)\n",
    "plt.title('MSE value vs Size of Test data')\n",
    "plt.xlabel('size of test data')\n",
    "plt.ylabel('MSE')\n",
    "plt.savefig(\"MSE vs size of test data .png\",dpi=300, bbox_inches='tight')\n",
    "plt.grid()\n",
    "plt.show()"
   ]
  },
  {
   "cell_type": "code",
   "execution_count": 21,
   "metadata": {},
   "outputs": [],
   "source": [
    "arr_Testsize = [0.05,0.1,0.15,0.2,0.25,0.3,0.35,0.4,0.45,0.5,0.55,0.65,0.7,0.75]"
   ]
  },
  {
   "cell_type": "code",
   "execution_count": 22,
   "metadata": {},
   "outputs": [],
   "source": [
    "def print_estimator_name(estimator):\n",
    "    print(estimator.__class__.__name__)\n",
    "\n",
    "def evaluate(model, X_train, X_test, y_train, y_test,t):\n",
    "    print_estimator_name(model)\n",
    "    X_train, X_val, y_train, y_val = train_test_split(X_train1, y_train1, test_size = t, random_state=42,shuffle= True)\n",
    "    #Train Algorithm\n",
    "    model.fit(X_train, y_train)\n",
    "    # Make Predictions\n",
    "    y_pred = model.predict(X_test)\n",
    "    print('MSE Test dataset =',mean_squared_error(y_test, y_pred))"
   ]
  },
  {
   "cell_type": "code",
   "execution_count": 42,
   "metadata": {},
   "outputs": [
    {
     "name": "stdout",
     "output_type": "stream",
     "text": [
      "size of test dataset= 0.05\n",
      "\n",
      "RandomForestRegressor\n",
      "MSE Test dataset = 9.69398305882353\n",
      "\n",
      "DecisionTreeRegressor\n",
      "MSE Test dataset = 27.800392156862753\n",
      "\n",
      "SVR\n",
      "MSE Test dataset = 70.00306748145528\n",
      "\n",
      "KNeighborsRegressor\n",
      "MSE Test dataset = 26.06690588235294\n",
      "\n",
      "LinearRegression\n",
      "MSE Test dataset = 24.581271581947\n",
      "\n",
      "Lasso\n",
      "MSE Test dataset = 24.5242819646217\n",
      "\n",
      "ElasticNet\n",
      "MSE Test dataset = 24.135454425409016\n",
      "\n",
      "size of test dataset= 0.1\n",
      "\n",
      "RandomForestRegressor\n",
      "MSE Test dataset = 11.890589215686271\n",
      "\n",
      "DecisionTreeRegressor\n",
      "MSE Test dataset = 29.878627450980385\n",
      "\n",
      "SVR\n",
      "MSE Test dataset = 70.33607264126985\n",
      "\n",
      "KNeighborsRegressor\n",
      "MSE Test dataset = 27.128568627450978\n",
      "\n",
      "LinearRegression\n",
      "MSE Test dataset = 24.268001837948113\n",
      "\n",
      "Lasso\n",
      "MSE Test dataset = 24.248412793154785\n",
      "\n",
      "ElasticNet\n",
      "MSE Test dataset = 23.87927054150992\n",
      "\n",
      "size of test dataset= 0.15\n",
      "\n",
      "RandomForestRegressor\n",
      "MSE Test dataset = 12.619801960784311\n",
      "\n",
      "DecisionTreeRegressor\n",
      "MSE Test dataset = 30.25745098039216\n",
      "\n",
      "SVR\n",
      "MSE Test dataset = 70.45548927480675\n",
      "\n",
      "KNeighborsRegressor\n",
      "MSE Test dataset = 31.00893725490196\n",
      "\n",
      "LinearRegression\n",
      "MSE Test dataset = 25.094993840587243\n",
      "\n",
      "Lasso\n",
      "MSE Test dataset = 24.504062232545788\n",
      "\n",
      "ElasticNet\n",
      "MSE Test dataset = 23.908591115220776\n",
      "\n",
      "size of test dataset= 0.2\n",
      "\n",
      "RandomForestRegressor\n",
      "MSE Test dataset = 12.019076843137254\n",
      "\n",
      "DecisionTreeRegressor\n",
      "MSE Test dataset = 32.67745098039216\n",
      "\n",
      "SVR\n",
      "MSE Test dataset = 70.78495549151694\n",
      "\n",
      "KNeighborsRegressor\n",
      "MSE Test dataset = 32.584886274509806\n",
      "\n",
      "LinearRegression\n",
      "MSE Test dataset = 25.102077370747917\n",
      "\n",
      "Lasso\n",
      "MSE Test dataset = 24.53873080268383\n",
      "\n",
      "ElasticNet\n",
      "MSE Test dataset = 23.94629771674362\n",
      "\n",
      "size of test dataset= 0.25\n",
      "\n",
      "RandomForestRegressor\n",
      "MSE Test dataset = 11.537903647058817\n",
      "\n",
      "DecisionTreeRegressor\n",
      "MSE Test dataset = 31.18107843137255\n",
      "\n",
      "SVR\n",
      "MSE Test dataset = 70.93497051790807\n",
      "\n",
      "KNeighborsRegressor\n",
      "MSE Test dataset = 33.82098039215686\n",
      "\n",
      "LinearRegression\n",
      "MSE Test dataset = 25.297950226359017\n",
      "\n",
      "Lasso\n",
      "MSE Test dataset = 25.298566996331648\n",
      "\n",
      "ElasticNet\n",
      "MSE Test dataset = 24.642923309446463\n",
      "\n",
      "size of test dataset= 0.3\n",
      "\n",
      "RandomForestRegressor\n",
      "MSE Test dataset = 11.732034715686268\n",
      "\n",
      "DecisionTreeRegressor\n",
      "MSE Test dataset = 30.954999999999995\n",
      "\n",
      "SVR\n",
      "MSE Test dataset = 71.08348653949649\n",
      "\n",
      "KNeighborsRegressor\n",
      "MSE Test dataset = 39.1482431372549\n",
      "\n",
      "LinearRegression\n",
      "MSE Test dataset = 25.752244454113807\n",
      "\n",
      "Lasso\n",
      "MSE Test dataset = 25.507858919802775\n",
      "\n",
      "ElasticNet\n",
      "MSE Test dataset = 24.783276266861755\n",
      "\n",
      "size of test dataset= 0.35\n",
      "\n",
      "RandomForestRegressor\n",
      "MSE Test dataset = 12.10883001960784\n",
      "\n",
      "DecisionTreeRegressor\n",
      "MSE Test dataset = 18.914509803921565\n",
      "\n",
      "SVR\n",
      "MSE Test dataset = 71.5057224260953\n",
      "\n",
      "KNeighborsRegressor\n",
      "MSE Test dataset = 43.292600000000014\n",
      "\n",
      "LinearRegression\n",
      "MSE Test dataset = 25.117446196435527\n",
      "\n",
      "Lasso\n",
      "MSE Test dataset = 25.391990751168017\n",
      "\n",
      "ElasticNet\n",
      "MSE Test dataset = 24.622750866304994\n",
      "\n",
      "size of test dataset= 0.4\n",
      "\n",
      "RandomForestRegressor\n",
      "MSE Test dataset = 10.610884745098037\n",
      "\n",
      "DecisionTreeRegressor\n",
      "MSE Test dataset = 21.57147058823529\n",
      "\n",
      "SVR\n",
      "MSE Test dataset = 71.53437856651611\n",
      "\n",
      "KNeighborsRegressor\n",
      "MSE Test dataset = 44.793850980392165\n",
      "\n",
      "LinearRegression\n",
      "MSE Test dataset = 25.607727801671807\n",
      "\n",
      "Lasso\n",
      "MSE Test dataset = 25.91087815322841\n",
      "\n",
      "ElasticNet\n",
      "MSE Test dataset = 25.075562830862594\n",
      "\n",
      "size of test dataset= 0.45\n",
      "\n",
      "RandomForestRegressor\n",
      "MSE Test dataset = 10.022821911764698\n",
      "\n",
      "DecisionTreeRegressor\n",
      "MSE Test dataset = 21.854509803921573\n",
      "\n",
      "SVR\n",
      "MSE Test dataset = 71.49710306866126\n",
      "\n",
      "KNeighborsRegressor\n",
      "MSE Test dataset = 44.05278039215686\n",
      "\n",
      "LinearRegression\n",
      "MSE Test dataset = 25.120788170307428\n",
      "\n",
      "Lasso\n",
      "MSE Test dataset = 25.62431263911466\n",
      "\n",
      "ElasticNet\n",
      "MSE Test dataset = 24.81112409311621\n",
      "\n",
      "size of test dataset= 0.5\n",
      "\n",
      "RandomForestRegressor\n",
      "MSE Test dataset = 9.432554598039218\n",
      "\n",
      "DecisionTreeRegressor\n",
      "MSE Test dataset = 18.67598039215686\n",
      "\n",
      "SVR\n",
      "MSE Test dataset = 71.72858177767968\n",
      "\n",
      "KNeighborsRegressor\n",
      "MSE Test dataset = 49.41676078431373\n",
      "\n",
      "LinearRegression\n",
      "MSE Test dataset = 26.39764364608106\n",
      "\n",
      "Lasso\n",
      "MSE Test dataset = 25.804511468780934\n",
      "\n",
      "ElasticNet\n",
      "MSE Test dataset = 24.55301739822031\n",
      "\n",
      "size of test dataset= 0.55\n",
      "\n",
      "RandomForestRegressor\n",
      "MSE Test dataset = 16.487267274509804\n",
      "\n",
      "DecisionTreeRegressor\n",
      "MSE Test dataset = 24.24009803921569\n",
      "\n",
      "SVR\n",
      "MSE Test dataset = 71.68326255672379\n",
      "\n",
      "KNeighborsRegressor\n",
      "MSE Test dataset = 47.1806705882353\n",
      "\n",
      "LinearRegression\n",
      "MSE Test dataset = 29.047609649339165\n",
      "\n",
      "Lasso\n",
      "MSE Test dataset = 27.38238885675925\n",
      "\n",
      "ElasticNet\n",
      "MSE Test dataset = 24.981639902490077\n",
      "\n",
      "size of test dataset= 0.65\n",
      "\n",
      "RandomForestRegressor\n",
      "MSE Test dataset = 17.848464284313724\n",
      "\n",
      "DecisionTreeRegressor\n",
      "MSE Test dataset = 30.719901960784316\n",
      "\n",
      "SVR\n",
      "MSE Test dataset = 72.02414052441203\n",
      "\n",
      "KNeighborsRegressor\n",
      "MSE Test dataset = 55.16037254901961\n",
      "\n",
      "LinearRegression\n",
      "MSE Test dataset = 29.89262511468575\n",
      "\n",
      "Lasso\n",
      "MSE Test dataset = 28.16826650531602\n",
      "\n",
      "ElasticNet\n",
      "MSE Test dataset = 25.3527890419485\n",
      "\n",
      "size of test dataset= 0.7\n",
      "\n",
      "RandomForestRegressor\n",
      "MSE Test dataset = 17.661357392156845\n",
      "\n",
      "DecisionTreeRegressor\n",
      "MSE Test dataset = 29.366568627450977\n",
      "\n",
      "SVR\n",
      "MSE Test dataset = 72.35065443921302\n",
      "\n",
      "KNeighborsRegressor\n",
      "MSE Test dataset = 61.33506666666667\n",
      "\n",
      "LinearRegression\n",
      "MSE Test dataset = 31.928101220171737\n",
      "\n",
      "Lasso\n",
      "MSE Test dataset = 28.477170472797553\n",
      "\n",
      "ElasticNet\n",
      "MSE Test dataset = 26.110085343155315\n",
      "\n",
      "size of test dataset= 0.75\n",
      "\n",
      "RandomForestRegressor\n",
      "MSE Test dataset = 22.277979480392155\n",
      "\n",
      "DecisionTreeRegressor\n",
      "MSE Test dataset = 31.338431372549014\n",
      "\n",
      "SVR\n",
      "MSE Test dataset = 72.62351759485614\n",
      "\n",
      "KNeighborsRegressor\n",
      "MSE Test dataset = 64.79671372549019\n",
      "\n",
      "LinearRegression\n",
      "MSE Test dataset = 33.77498441456528\n",
      "\n",
      "Lasso\n",
      "MSE Test dataset = 29.910619601195233\n",
      "\n",
      "ElasticNet\n",
      "MSE Test dataset = 29.225226529508625\n",
      "\n"
     ]
    }
   ],
   "source": [
    "for t in arr_Testsize:\n",
    "    print(\"size of test dataset=\",t)\n",
    "    print()\n",
    "    for model in models:\n",
    "        evaluate(model,X_train, X_test, y_train, y_test,t)\n",
    "        print()\n",
    "    "
   ]
  },
  {
   "cell_type": "markdown",
   "metadata": {},
   "source": [
    "### Random Forest regressor with varying test data size"
   ]
  },
  {
   "cell_type": "code",
   "execution_count": 24,
   "metadata": {},
   "outputs": [
    {
     "name": "stdout",
     "output_type": "stream",
     "text": [
      "size of test data 0.05\n",
      "MSE Test dataset = 33.073226809523725\n",
      "size of test data 0.1\n",
      "MSE Test dataset = 23.007240609756064\n",
      "size of test data 0.15\n",
      "MSE Test dataset = 17.034535852458998\n",
      "size of test data 0.2\n",
      "MSE Test dataset = 13.100499567901208\n",
      "size of test data 0.25\n",
      "MSE Test dataset = 13.776636158415815\n",
      "size of test data 0.3\n",
      "MSE Test dataset = 12.585501270491804\n",
      "size of test data 0.35\n",
      "MSE Test dataset = 13.059572190140845\n",
      "size of test data 0.4\n",
      "MSE Test dataset = 14.070826209876543\n",
      "size of test data 0.45\n",
      "MSE Test dataset = 15.295277153846147\n",
      "size of test data 0.5\n",
      "MSE Test dataset = 14.378333425742573\n",
      "size of test data 0.55\n",
      "MSE Test dataset = 14.621995686098646\n",
      "size of test data 0.65\n",
      "MSE Test dataset = 17.531908212927757\n",
      "size of test data 0.7\n",
      "MSE Test dataset = 25.068274388692583\n",
      "size of test data 0.75\n",
      "MSE Test dataset = 21.247595270627045\n"
     ]
    },
    {
     "data": {
      "image/png": "[encoded data removed]",
      "text/plain": [
       "<Figure size 432x288 with 1 Axes>"
      ]
     },
     "metadata": {
      "needs_background": "light"
     },
     "output_type": "display_data"
    }
   ],
   "source": [
    "cv_mse = []\n",
    "for t in arr_Testsize:\n",
    "    cv = i+1\n",
    "    X_train, X_val, y_train, y_val = train_test_split(X_train1, y_train1, test_size = t, random_state=42,shuffle= False)\n",
    "    clf = RandomForestRegressor(random_state=42)\n",
    "    clf.fit(X_train, y_train)\n",
    "    y_pred = clf.predict(X_val)\n",
    "    m = mean_squared_error(y_val, y_pred)\n",
    "    print(\"size of test data\",t)\n",
    "    print('MSE Test dataset =',m)\n",
    "    cv_mse.append(m)\n",
    "cv_mse = np.array(cv_mse)\n",
    "plt.plot(arr_Testsize,cv_mse)\n",
    "plt.title('MSE value vs Size of Test data')\n",
    "plt.xlabel('size of test data')\n",
    "plt.ylabel('MSE')\n",
    "plt.savefig(\"MSE vs size of test data .png\",dpi=300, bbox_inches='tight')\n",
    "plt.grid()\n",
    "plt.show()"
   ]
  },
  {
   "cell_type": "markdown",
   "metadata": {},
   "source": [
    "### Decision Tree Regressor "
   ]
  },
  {
   "cell_type": "code",
   "execution_count": 25,
   "metadata": {},
   "outputs": [
    {
     "name": "stdout",
     "output_type": "stream",
     "text": [
      "size of test data 0.05\n",
      "MSE Test dataset = 30.410476190476196\n",
      "size of test data 0.1\n",
      "MSE Test dataset = 27.81439024390244\n",
      "size of test data 0.15\n",
      "MSE Test dataset = 29.42983606557377\n",
      "size of test data 0.2\n",
      "MSE Test dataset = 20.873580246913583\n",
      "size of test data 0.25\n",
      "MSE Test dataset = 18.147326732673264\n",
      "size of test data 0.3\n",
      "MSE Test dataset = 23.580655737704912\n",
      "size of test data 0.35\n",
      "MSE Test dataset = 27.931267605633796\n",
      "size of test data 0.4\n",
      "MSE Test dataset = 20.490123456790126\n",
      "size of test data 0.45\n",
      "MSE Test dataset = 24.90714285714286\n",
      "size of test data 0.5\n",
      "MSE Test dataset = 22.893663366336632\n",
      "size of test data 0.55\n",
      "MSE Test dataset = 23.74695067264574\n",
      "size of test data 0.65\n",
      "MSE Test dataset = 34.761825095057034\n",
      "size of test data 0.7\n",
      "MSE Test dataset = 48.26088339222615\n",
      "size of test data 0.75\n",
      "MSE Test dataset = 37.61910891089109\n"
     ]
    },
    {
     "data": {
      "image/png": "[encoded data removed]",
      "text/plain": [
       "<Figure size 432x288 with 1 Axes>"
      ]
     },
     "metadata": {
      "needs_background": "light"
     },
     "output_type": "display_data"
    }
   ],
   "source": [
    "cv_mse = []\n",
    "for t in arr_Testsize:\n",
    "    cv = i+1\n",
    "    X_train, X_val, y_train, y_val = train_test_split(X_train1, y_train1, test_size = t, random_state=42,shuffle= False)\n",
    "    clf = DecisionTreeRegressor()\n",
    "    clf.fit(X_train, y_train)\n",
    "    y_pred = clf.predict(X_val)\n",
    "    m = mean_squared_error(y_val, y_pred)\n",
    "    print(\"size of test data\",t)\n",
    "    print('MSE Test dataset =',m)\n",
    "    cv_mse.append(m)\n",
    "cv_mse = np.array(cv_mse)\n",
    "plt.plot(arr_Testsize,cv_mse)\n",
    "plt.title('MSE value vs Size of Test data')\n",
    "plt.xlabel('size of test data')\n",
    "plt.ylabel('MSE')\n",
    "plt.savefig(\"MSE vs size of test data .png\",dpi=300, bbox_inches='tight')\n",
    "plt.grid()\n",
    "plt.show()"
   ]
  },
  {
   "cell_type": "markdown",
   "metadata": {},
   "source": [
    "### Support Vector Regressor"
   ]
  },
  {
   "cell_type": "code",
   "execution_count": 26,
   "metadata": {},
   "outputs": [
    {
     "name": "stdout",
     "output_type": "stream",
     "text": [
      "size of test data 0.05\n",
      "MSE Test dataset = 64.24217708217982\n",
      "size of test data 0.1\n",
      "MSE Test dataset = 71.07572409408868\n",
      "size of test data 0.15\n",
      "MSE Test dataset = 75.50521677965669\n",
      "size of test data 0.2\n",
      "MSE Test dataset = 67.30735631951231\n",
      "size of test data 0.25\n",
      "MSE Test dataset = 70.28142253165004\n",
      "size of test data 0.3\n",
      "MSE Test dataset = 65.50620326501004\n",
      "size of test data 0.35\n",
      "MSE Test dataset = 76.74302022689619\n",
      "size of test data 0.4\n",
      "MSE Test dataset = 82.35554001056218\n",
      "size of test data 0.45\n",
      "MSE Test dataset = 85.14940302977102\n",
      "size of test data 0.5\n",
      "MSE Test dataset = 88.55231177252776\n",
      "size of test data 0.55\n",
      "MSE Test dataset = 88.5311870172412\n",
      "size of test data 0.65\n",
      "MSE Test dataset = 85.24955429227633\n",
      "size of test data 0.7\n",
      "MSE Test dataset = 85.47213259841297\n",
      "size of test data 0.75\n",
      "MSE Test dataset = 96.14162787948005\n"
     ]
    },
    {
     "data": {
      "image/png": "[encoded data removed]",
      "text/plain": [
       "<Figure size 432x288 with 1 Axes>"
      ]
     },
     "metadata": {
      "needs_background": "light"
     },
     "output_type": "display_data"
    }
   ],
   "source": [
    "cv_mse = []\n",
    "for t in arr_Testsize:\n",
    "    cv = i+1\n",
    "    X_train, X_val, y_train, y_val = train_test_split(X_train1, y_train1, test_size = t, random_state=42,shuffle= False)\n",
    "    clf = SVR(gamma='auto')\n",
    "    clf.fit(X_train, y_train)\n",
    "    y_pred = clf.predict(X_val)\n",
    "    m = mean_squared_error(y_val, y_pred)\n",
    "    print(\"size of test data\",t)\n",
    "    print('MSE Test dataset =',m)\n",
    "    cv_mse.append(m)\n",
    "cv_mse = np.array(cv_mse)\n",
    "plt.plot(arr_Testsize,cv_mse)\n",
    "plt.title('MSE value vs Size of Test data')\n",
    "plt.xlabel('size of test data')\n",
    "plt.ylabel('MSE')\n",
    "plt.savefig(\"MSE vs size of test data .png\",dpi=300, bbox_inches='tight')\n",
    "plt.grid()\n",
    "plt.show()"
   ]
  },
  {
   "cell_type": "code",
   "execution_count": 27,
   "metadata": {},
   "outputs": [
    {
     "name": "stdout",
     "output_type": "stream",
     "text": [
      "size of test data 0.05\n",
      "MSE Test dataset = 82.21611428571431\n",
      "size of test data 0.1\n",
      "MSE Test dataset = 51.5199512195122\n",
      "size of test data 0.15\n",
      "MSE Test dataset = 44.10171147540984\n",
      "size of test data 0.2\n",
      "MSE Test dataset = 38.43229629629629\n",
      "size of test data 0.25\n",
      "MSE Test dataset = 38.129861386138614\n",
      "size of test data 0.3\n",
      "MSE Test dataset = 36.97065573770491\n",
      "size of test data 0.35\n",
      "MSE Test dataset = 49.611008450704226\n",
      "size of test data 0.4\n",
      "MSE Test dataset = 45.477081481481484\n",
      "size of test data 0.45\n",
      "MSE Test dataset = 47.29022197802198\n",
      "size of test data 0.5\n",
      "MSE Test dataset = 45.76464356435644\n",
      "size of test data 0.55\n",
      "MSE Test dataset = 49.23117130044842\n",
      "size of test data 0.65\n",
      "MSE Test dataset = 49.63562281368821\n",
      "size of test data 0.7\n",
      "MSE Test dataset = 52.1598812720848\n",
      "size of test data 0.75\n",
      "MSE Test dataset = 59.90331221122113\n"
     ]
    },
    {
     "data": {
      "image/png": "[encoded data removed]",
      "text/plain": [
       "<Figure size 432x288 with 1 Axes>"
      ]
     },
     "metadata": {
      "needs_background": "light"
     },
     "output_type": "display_data"
    }
   ],
   "source": [
    "cv_mse = []\n",
    "for t in arr_Testsize:\n",
    "    cv = i+1\n",
    "    X_train, X_val, y_train, y_val = train_test_split(X_train1, y_train1, test_size = t, random_state=42,shuffle= False)\n",
    "    clf = KNeighborsRegressor()\n",
    "    clf.fit(X_train, y_train)\n",
    "    y_pred = clf.predict(X_val)\n",
    "    m = mean_squared_error(y_val, y_pred)\n",
    "    print(\"size of test data\",t)\n",
    "    print('MSE Test dataset =',m)\n",
    "    cv_mse.append(m)\n",
    "cv_mse = np.array(cv_mse)\n",
    "plt.plot(arr_Testsize,cv_mse)\n",
    "plt.title('MSE value vs Size of Test data')\n",
    "plt.xlabel('size of test data')\n",
    "plt.ylabel('MSE')\n",
    "plt.savefig(\"MSE vs size of test data .png\",dpi=300, bbox_inches='tight')\n",
    "plt.grid()\n",
    "plt.show()"
   ]
  },
  {
   "cell_type": "code",
   "execution_count": 28,
   "metadata": {},
   "outputs": [
    {
     "name": "stdout",
     "output_type": "stream",
     "text": [
      "size of test data 0.05\n",
      "MSE Test dataset = 49.68722825174213\n",
      "size of test data 0.1\n",
      "MSE Test dataset = 32.51434498533773\n",
      "size of test data 0.15\n",
      "MSE Test dataset = 26.295723345886163\n",
      "size of test data 0.2\n",
      "MSE Test dataset = 22.42844326833245\n",
      "size of test data 0.25\n",
      "MSE Test dataset = 22.279312012976753\n",
      "size of test data 0.3\n",
      "MSE Test dataset = 21.750369643896832\n",
      "size of test data 0.35\n",
      "MSE Test dataset = 21.583319537613505\n",
      "size of test data 0.4\n",
      "MSE Test dataset = 21.106834353528676\n",
      "size of test data 0.45\n",
      "MSE Test dataset = 22.497080344972343\n",
      "size of test data 0.5\n",
      "MSE Test dataset = 22.457817508104768\n",
      "size of test data 0.55\n",
      "MSE Test dataset = 22.804983625531158\n",
      "size of test data 0.65\n",
      "MSE Test dataset = 22.125265918719624\n",
      "size of test data 0.7\n",
      "MSE Test dataset = 31.60998412850602\n",
      "size of test data 0.75\n",
      "MSE Test dataset = 27.86569005814228\n"
     ]
    },
    {
     "data": {
      "image/png": "[encoded data removed]",
      "text/plain": [
       "<Figure size 432x288 with 1 Axes>"
      ]
     },
     "metadata": {
      "needs_background": "light"
     },
     "output_type": "display_data"
    }
   ],
   "source": [
    "cv_mse = []\n",
    "for t in arr_Testsize:\n",
    "    cv = i+1\n",
    "    X_train, X_val, y_train, y_val = train_test_split(X_train1, y_train1, test_size = t, random_state=42,shuffle= False)\n",
    "    clf = LinearRegression()\n",
    "    clf.fit(X_train, y_train)\n",
    "    y_pred = clf.predict(X_val)\n",
    "    m = mean_squared_error(y_val, y_pred)\n",
    "    print(\"size of test data\",t)\n",
    "    print('MSE Test dataset =',m)\n",
    "    cv_mse.append(m)\n",
    "cv_mse = np.array(cv_mse)\n",
    "plt.plot(arr_Testsize,cv_mse)\n",
    "plt.title('MSE value vs Size of Test data')\n",
    "plt.xlabel('size of test data')\n",
    "plt.ylabel('MSE')\n",
    "plt.savefig(\"MSE vs size of test data .png\",dpi=300, bbox_inches='tight')\n",
    "plt.grid()\n",
    "plt.show()"
   ]
  },
  {
   "cell_type": "code",
   "execution_count": 29,
   "metadata": {},
   "outputs": [
    {
     "name": "stdout",
     "output_type": "stream",
     "text": [
      "size of test data 0.05\n",
      "MSE Test dataset = 49.68722825174213\n",
      "size of test data 0.1\n",
      "MSE Test dataset = 32.51434498533773\n",
      "size of test data 0.15\n",
      "MSE Test dataset = 26.295723345886163\n",
      "size of test data 0.2\n",
      "MSE Test dataset = 22.42844326833245\n",
      "size of test data 0.25\n",
      "MSE Test dataset = 22.279312012976753\n",
      "size of test data 0.3\n",
      "MSE Test dataset = 21.750369643896832\n",
      "size of test data 0.35\n",
      "MSE Test dataset = 21.583319537613505\n",
      "size of test data 0.4\n",
      "MSE Test dataset = 21.106834353528676\n",
      "size of test data 0.45\n",
      "MSE Test dataset = 22.497080344972343\n",
      "size of test data 0.5\n",
      "MSE Test dataset = 22.457817508104768\n",
      "size of test data 0.55\n",
      "MSE Test dataset = 22.804983625531158\n",
      "size of test data 0.65\n",
      "MSE Test dataset = 22.125265918719624\n",
      "size of test data 0.7\n",
      "MSE Test dataset = 31.60998412850602\n",
      "size of test data 0.75\n",
      "MSE Test dataset = 27.86569005814228\n"
     ]
    },
    {
     "data": {
      "image/png": "[encoded data removed]",
      "text/plain": [
       "<Figure size 432x288 with 1 Axes>"
      ]
     },
     "metadata": {
      "needs_background": "light"
     },
     "output_type": "display_data"
    }
   ],
   "source": [
    "cv_mse = []\n",
    "for t in arr_Testsize:\n",
    "    cv = i+1\n",
    "    X_train, X_val, y_train, y_val = train_test_split(X_train1, y_train1, test_size = t, random_state=42,shuffle= False)\n",
    "    clf = LinearRegression()\n",
    "    clf.fit(X_train, y_train)\n",
    "    y_pred = clf.predict(X_val)\n",
    "    m = mean_squared_error(y_val, y_pred)\n",
    "    print(\"size of test data\",t)\n",
    "    print('MSE Test dataset =',m)\n",
    "    cv_mse.append(m)\n",
    "cv_mse = np.array(cv_mse)\n",
    "plt.plot(arr_Testsize,cv_mse)\n",
    "plt.title('MSE value vs Size of Test data')\n",
    "plt.xlabel('size of test data')\n",
    "plt.ylabel('MSE')\n",
    "plt.savefig(\"MSE vs size of test data .png\",dpi=300, bbox_inches='tight')\n",
    "plt.grid()\n",
    "plt.show()"
   ]
  },
  {
   "cell_type": "code",
   "execution_count": 30,
   "metadata": {},
   "outputs": [
    {
     "name": "stdout",
     "output_type": "stream",
     "text": [
      "size of test data 0.05\n",
      "MSE Test dataset = 59.9271501106284\n",
      "size of test data 0.1\n",
      "MSE Test dataset = 39.69797452440321\n",
      "size of test data 0.15\n",
      "MSE Test dataset = 33.433486715029346\n",
      "size of test data 0.2\n",
      "MSE Test dataset = 27.44690111421423\n",
      "size of test data 0.25\n",
      "MSE Test dataset = 26.768811322059115\n",
      "size of test data 0.3\n",
      "MSE Test dataset = 25.052545869875836\n",
      "size of test data 0.35\n",
      "MSE Test dataset = 27.52428146028874\n",
      "size of test data 0.4\n",
      "MSE Test dataset = 26.43686358874129\n",
      "size of test data 0.45\n",
      "MSE Test dataset = 28.64466134723721\n",
      "size of test data 0.5\n",
      "MSE Test dataset = 29.712319215832423\n",
      "size of test data 0.55\n",
      "MSE Test dataset = 29.769244471441354\n",
      "size of test data 0.65\n",
      "MSE Test dataset = 26.098631938391108\n",
      "size of test data 0.7\n",
      "MSE Test dataset = 27.43432806797379\n",
      "size of test data 0.75\n",
      "MSE Test dataset = 28.623275613715247\n"
     ]
    },
    {
     "data": {
      "image/png": "[encoded data removed]",
      "text/plain": [
       "<Figure size 432x288 with 1 Axes>"
      ]
     },
     "metadata": {
      "needs_background": "light"
     },
     "output_type": "display_data"
    }
   ],
   "source": [
    "cv_mse = []\n",
    "for t in arr_Testsize:\n",
    "    cv = i+1\n",
    "    X_train, X_val, y_train, y_val = train_test_split(X_train1, y_train1, test_size = t, random_state=42,shuffle= False)\n",
    "    clf = Lasso()\n",
    "    clf.fit(X_train, y_train)\n",
    "    y_pred = clf.predict(X_val)\n",
    "    m = mean_squared_error(y_val, y_pred)\n",
    "    print(\"size of test data\",t)\n",
    "    print('MSE Test dataset =',m)\n",
    "    cv_mse.append(m)\n",
    "cv_mse = np.array(cv_mse)\n",
    "plt.plot(arr_Testsize,cv_mse)\n",
    "plt.title('MSE value vs Size of Test data')\n",
    "plt.xlabel('size of test data')\n",
    "plt.ylabel('MSE')\n",
    "plt.savefig(\"MSE vs size of test data .png\",dpi=300, bbox_inches='tight')\n",
    "plt.grid()\n",
    "plt.show()"
   ]
  },
  {
   "cell_type": "code",
   "execution_count": 31,
   "metadata": {},
   "outputs": [
    {
     "name": "stdout",
     "output_type": "stream",
     "text": [
      "size of test data 0.05\n",
      "MSE Test dataset = 59.318476400813864\n",
      "size of test data 0.1\n",
      "MSE Test dataset = 39.85288804391512\n",
      "size of test data 0.15\n",
      "MSE Test dataset = 33.83777808265271\n",
      "size of test data 0.2\n",
      "MSE Test dataset = 27.89727794165876\n",
      "size of test data 0.25\n",
      "MSE Test dataset = 27.54908884627221\n",
      "size of test data 0.3\n",
      "MSE Test dataset = 25.76785758848745\n",
      "size of test data 0.35\n",
      "MSE Test dataset = 28.071313283260174\n",
      "size of test data 0.4\n",
      "MSE Test dataset = 27.0002607992406\n",
      "size of test data 0.45\n",
      "MSE Test dataset = 28.990545502884032\n",
      "size of test data 0.5\n",
      "MSE Test dataset = 29.56613640975354\n",
      "size of test data 0.55\n",
      "MSE Test dataset = 29.319993302202665\n",
      "size of test data 0.65\n",
      "MSE Test dataset = 26.249266433350797\n",
      "size of test data 0.7\n",
      "MSE Test dataset = 26.475514884313537\n",
      "size of test data 0.75\n",
      "MSE Test dataset = 29.981146204755426\n"
     ]
    },
    {
     "data": {
      "image/png": "[encoded data removed]",
      "text/plain": [
       "<Figure size 432x288 with 1 Axes>"
      ]
     },
     "metadata": {
      "needs_background": "light"
     },
     "output_type": "display_data"
    }
   ],
   "source": [
    "cv_mse = []\n",
    "for t in arr_Testsize:\n",
    "    cv = i+1\n",
    "    X_train, X_val, y_train, y_val = train_test_split(X_train1, y_train1, test_size = t, random_state=42,shuffle= False)\n",
    "    clf = ElasticNet()\n",
    "    clf.fit(X_train, y_train)\n",
    "    y_pred = clf.predict(X_val)\n",
    "    m = mean_squared_error(y_val, y_pred)\n",
    "    print(\"size of test data\",t)\n",
    "    print('MSE Test dataset =',m)\n",
    "    cv_mse.append(m)\n",
    "cv_mse = np.array(cv_mse)\n",
    "plt.plot(arr_Testsize,cv_mse)\n",
    "plt.title('MSE value vs Size of Test data')\n",
    "plt.xlabel('size of test data')\n",
    "plt.ylabel('MSE')\n",
    "plt.savefig(\"MSE vs size of test data .png\",dpi=300, bbox_inches='tight')\n",
    "plt.grid()\n",
    "plt.show()"
   ]
  },
  {
   "cell_type": "code",
   "execution_count": null,
   "metadata": {},
   "outputs": [],
   "source": []
  }
 ],
 "metadata": {
  "celltoolbar": "Tags",
  "colab": {
   "collapsed_sections": [],
   "name": "ridge_modified.ipynb",
   "provenance": []
  },
  "kernelspec": {
   "display_name": "Python 3",
   "language": "python",
   "name": "python3"
  },
  "language_info": {
   "codemirror_mode": {
    "name": "ipython",
    "version": 3
   },
   "file_extension": ".py",
   "mimetype": "text/x-python",
   "name": "python",
   "nbconvert_exporter": "python",
   "pygments_lexer": "ipython3",
   "version": "3.8.8"
  }
 },
 "nbformat": 4,
 "nbformat_minor": 1
}
